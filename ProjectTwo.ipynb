{
 "cells": [
  {
   "cell_type": "markdown",
   "metadata": {},
   "source": [
    "# PHYS20762 - Project - \n",
    "\n",
    "David Phelan  \n",
    "University of Manchester  \n",
    "March 2025"
   ]
  },
  {
   "cell_type": "markdown",
   "metadata": {},
   "source": [
    "This project aims to simulate a driven, damped harmonic oscillator."
   ]
  },
  {
   "cell_type": "code",
   "execution_count": 31,
   "metadata": {},
   "outputs": [],
   "source": [
    "# Initilisation\n",
    "import numpy as np\n",
    "import matplotlib.pyplot as plt"
   ]
  },
  {
   "cell_type": "markdown",
   "metadata": {},
   "source": [
    "The below function is an Euler solution to the equation of motion:\n",
    "\n",
    "$m \\frac{d^2 x(t)}{dt^2} + b \\frac{d x(t)}{dt} + kx(t) = F(t),$\n",
    "\n",
    "where the external force, $F(t)$ is $0$ (not driven) and accepting m, b, and k as inputs."
   ]
  },
  {
   "cell_type": "code",
   "execution_count": null,
   "metadata": {},
   "outputs": [],
   "source": [
    "def Euler_undriven(m, k, b, n, x0, v0, dt):\n",
    "    \"\"\"\n",
    "    Forward Euler method for the undriven (possibly damped) oscillator:\n",
    "        m x''(t) + b x'(t) + k x(t) = 0\n",
    "\n",
    "    Args:\n",
    "        m   (float): Mass of the oscillator.\n",
    "        k   (float): Spring constant.\n",
    "        b   (float): Damping coefficient (0 for no damping).\n",
    "        n   (int)  : Number of time steps.\n",
    "        x0  (float): Initial position x(0).\n",
    "        v0  (float): Initial velocity x'(0).\n",
    "        dt  (float): Timestep size.\n",
    "\n",
    "    Returns:\n",
    "        x (ndarray): Positions at each timestep (length n+1).\n",
    "        v (ndarray): Velocities at each timestep (length n+1).\n",
    "        a (ndarray): Accelerations at each timestep (length n+1).\n",
    "        t (ndarray): Array of time points from 0 to n*dt (length n+1).\n",
    "\n",
    "    Notes:\n",
    "        - This function implements the basic \"forward Euler\" scheme.\n",
    "        - The acceleration is computed via a[i+1] = -(k*x[i+1] + b*v[i+1]) / m\n",
    "          before x[i+1], v[i+1] are updated, matching your original code flow.\n",
    "        - For purely undamped motion, pass b=0.\n",
    "    \"\"\"\n",
    "    \n",
    "    # Create an array of time points\n",
    "    t = np.linspace(0, n*dt, n+1)\n",
    "    \n",
    "    # Allocate arrays for position, velocity, and acceleration\n",
    "    x = np.zeros(n+1)\n",
    "    v = np.zeros(n+1)\n",
    "    a = np.zeros(n+1)\n",
    "    \n",
    "    # Initial conditions\n",
    "    x[0] = x0\n",
    "    v[0] = v0\n",
    "    a[0] = -(k * x[0] + b * v[0]) / m # Compute initial acceleration at t=0\n",
    "    \n",
    "    # Forward Euler time-stepping\n",
    "    for i in range(n):\n",
    "        # Compute acceleration for the next index (as in your original code)\n",
    "        a[i+1] = -(k * x[i+1] + b * v[i+1]) / m\n",
    "        \n",
    "        # Update velocity using the old acceleration\n",
    "        v[i+1] = v[i] + a[i] * dt\n",
    "        \n",
    "        # Update position using the old velocity\n",
    "        x[i+1] = x[i] + v[i] * dt\n",
    "    \n",
    "    return x, v, a, t\n"
   ]
  },
  {
   "cell_type": "markdown",
   "metadata": {},
   "source": [
    "Below is code to verify that the function is performing as expected, by checking generated values with expected values using the python keyword assert."
   ]
  },
  {
   "cell_type": "code",
   "execution_count": null,
   "metadata": {},
   "outputs": [
    {
     "name": "stdout",
     "output_type": "stream",
     "text": [
      "All Euler_undriven tests passed successfully!\n"
     ]
    }
   ],
   "source": [
    "def test_Euler_undriven():\n",
    "    \"\"\"\n",
    "    Tests the Euler_undriven function in simple edge cases\n",
    "    to confirm that the solver behaves as expected.\n",
    "    \n",
    "    Scenario 1: \n",
    "        - m=1, k=0, b=0, x0=0, v0=0, dt=0.1\n",
    "        - Expect no forces and no initial motion => everything remains zero.\n",
    "    \n",
    "    Scenario 2:\n",
    "        - m=1, k=0, b=0, x0=2, v0=-1, dt=0.1\n",
    "        - Expect velocity remains constant at -1, \n",
    "          position decreases linearly with slope -1, \n",
    "          acceleration is always zero.\n",
    "    \"\"\"\n",
    "    # -- Scenario 1: no forces and no initial velocity --\n",
    "    from_module = Euler_undriven(m=1, k=0, b=0, x0=0, v0=0, dt=0.1, n=10)\n",
    "    x_arr, v_arr, a_arr, t_arr = from_module\n",
    "    \n",
    "    # Our expected arrays: everything should be zero (length n_stneps+1 = 11)\n",
    "    zeros_11 = np.zeros(11)\n",
    "    \n",
    "    # Assert they match (within floating-point tolerance)\n",
    "    assert np.allclose(x_arr, zeros_11), \"Scenario 1: x should remain zero.\"\n",
    "    assert np.allclose(v_arr, zeros_11), \"Scenario 1: v should remain zero.\"\n",
    "    assert np.allclose(a_arr, zeros_11), \"Scenario 1: a should remain zero.\"\n",
    "    \n",
    "    # -- Scenario 2: constant velocity, no forces --\n",
    "    from_module = Euler_undriven(m=1, k=0, b=0, x0=2, v0=-1, dt=0.1, n=10)\n",
    "    x_arr, v_arr, a_arr, t_arr = from_module\n",
    "    \n",
    "    # Time array for reference\n",
    "    # t_arr = [0.0, 0.1, 0.2, ..., 1.0] (length = 11)\n",
    "    \n",
    "    # The velocity should remain at -1:\n",
    "    expected_v = -1 * np.ones_like(t_arr)\n",
    "    # The position should be x(t) = 2 + v0 * t = 2 - 1 * t\n",
    "    expected_x = 2 - t_arr\n",
    "    # Acceleration should be zero (no spring, no damping)\n",
    "    expected_a = np.zeros_like(t_arr)\n",
    "    \n",
    "    assert np.allclose(v_arr, expected_v),  \"Scenario 2: velocity should stay at -1.\"\n",
    "    assert np.allclose(x_arr, expected_x),  \"Scenario 2: position should be linear in time.\"\n",
    "    assert np.allclose(a_arr, expected_a),  \"Scenario 2: acceleration should remain zero.\"\n",
    "    \n",
    "    print(\"All Euler_undriven tests passed successfully!\")\n",
    "\n",
    "test_Euler_undriven()"
   ]
  },
  {
   "cell_type": "markdown",
   "metadata": {},
   "source": [
    "The below function is an improved Euler solution to the equation of motion:\n",
    "\n",
    "$m \\frac{d^2 x(t)}{dt^2} + b \\frac{d x(t)}{dt} + kx(t) = F(t),$\n",
    "\n",
    "where the external force, $F(t)$ is $0$ (not driven) and accepting m, b, and k as inputs."
   ]
  },
  {
   "cell_type": "code",
   "execution_count": null,
   "metadata": {},
   "outputs": [],
   "source": [
    "def ImprovedEuler_undriven(m, k, b, n, x0, v0, dt):\n",
    "    \"\"\"\n",
    "    Implements the 'Improved Euler' approach shown in the slide:\n",
    "        x_{i+1} = x_i + h * v_i + 0.5 * h^2 * a_i\n",
    "        v_{i+1} = v_i + h * a_i\n",
    "        a_i     = -(k/m)*x_i - (b/m)*v_i\n",
    "\n",
    "    Args:\n",
    "        m   : mass\n",
    "        k   : spring constant\n",
    "        b   : damping coefficient\n",
    "        n   : number of time steps\n",
    "        x0  : initial position\n",
    "        v0  : initial velocity\n",
    "        dt  : time step\n",
    "\n",
    "    Returns:\n",
    "        x, v, a, t\n",
    "          x, v, a are arrays of length (n+1);\n",
    "          t is the array of time points from 0 to n*dt.\n",
    "    \"\"\"\n",
    "\n",
    "    # Create an array of time points\n",
    "    t = np.linspace(0, n*dt, n+1)\n",
    "    \n",
    "    # Allocate arrays for position, velocity, and acceleration\n",
    "    x = np.zeros(n+1)\n",
    "    v = np.zeros(n+1)\n",
    "    a = np.zeros(n+1)\n",
    "\n",
    "    # Initial conditions\n",
    "    x[0] = x0\n",
    "    v[0] = v0\n",
    "    a[0] = -(k*x[0] + b*v[0]) / m  # acceleration at i=0\n",
    "\n",
    "    for i in range(n):\n",
    "        # Position update includes a half-step for the acceleration\n",
    "        x[i+1] = x[i] + dt*v[i] + 0.5*(dt**2)*a[i]\n",
    "        \n",
    "        # Velocity update is the standard Euler step\n",
    "        v[i+1] = v[i] + dt*a[i]\n",
    "\n",
    "        # Compute the new acceleration at i+1\n",
    "        a[i+1] = -(k*x[i+1] + b*v[i+1]) / m\n",
    "\n",
    "    return x, v, a, t"
   ]
  }
 ],
 "metadata": {
  "kernelspec": {
   "display_name": "base",
   "language": "python",
   "name": "python3"
  },
  "language_info": {
   "codemirror_mode": {
    "name": "ipython",
    "version": 3
   },
   "file_extension": ".py",
   "mimetype": "text/x-python",
   "name": "python",
   "nbconvert_exporter": "python",
   "pygments_lexer": "ipython3",
   "version": "3.11.5"
  }
 },
 "nbformat": 4,
 "nbformat_minor": 2
}
