{
 "cells": [
  {
   "cell_type": "markdown",
   "metadata": {},
   "source": [
    "# PHYS20762 - Project - \n",
    "\n",
    "David Phelan  \n",
    "University of Manchester  \n",
    "March 2025"
   ]
  },
  {
   "cell_type": "markdown",
   "metadata": {},
   "source": [
    "This project aims to simulate a driven, damped harmonic oscillator."
   ]
  },
  {
   "cell_type": "code",
   "execution_count": 24,
   "metadata": {},
   "outputs": [],
   "source": [
    "# Initilisation\n",
    "import numpy as np\n",
    "import matplotlib.pyplot as plt"
   ]
  },
  {
   "cell_type": "code",
   "execution_count": null,
   "metadata": {},
   "outputs": [],
   "source": []
  },
  {
   "cell_type": "markdown",
   "metadata": {},
   "source": [
    "The below function is an Euler solution to the equation of motion:\n",
    "\n",
    "$m \\frac{d^2 x(t)}{dt^2} + b \\frac{d x(t)}{dt} + kx(t) = F(t),$\n",
    "\n",
    "where the external force, $F(t)$ is $0$ (not driven) and accepting m, b, and k as inputs."
   ]
  },
  {
   "cell_type": "code",
   "execution_count": 25,
   "metadata": {},
   "outputs": [],
   "source": [
    "def Euler_undriven(m, k, b, n, x0, v0, dt):\n",
    "    # Initialisation\n",
    "    t = np.linspace(0, n*dt, n+1)\n",
    "    x = np.zeros(n+1)\n",
    "    v = np.zeros(n+1)\n",
    "    a = np.zeros(n+1)\n",
    "    x[0] = x0\n",
    "    v[0] = v0\n",
    "    # Euler method\n",
    "    for i in range(n):\n",
    "        a[i] = (-k*x[i] - b*v[i])/m\n",
    "        v[i+1] = v[i] + (-k*x[i] - b*v[i])/m*dt\n",
    "        x[i+1] = x[i] + v[i]*dt\n",
    "    return x, v, a, t"
   ]
  }
 ],
 "metadata": {
  "kernelspec": {
   "display_name": "base",
   "language": "python",
   "name": "python3"
  },
  "language_info": {
   "codemirror_mode": {
    "name": "ipython",
    "version": 3
   },
   "file_extension": ".py",
   "mimetype": "text/x-python",
   "name": "python",
   "nbconvert_exporter": "python",
   "pygments_lexer": "ipython3",
   "version": "3.11.5"
  }
 },
 "nbformat": 4,
 "nbformat_minor": 2
}
