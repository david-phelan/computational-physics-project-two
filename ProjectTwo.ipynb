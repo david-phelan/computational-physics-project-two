{
 "cells": [
  {
   "cell_type": "markdown",
   "metadata": {},
   "source": [
    "# PHYS20762 - Project - \n",
    "\n",
    "David Phelan  \n",
    "University of Manchester  \n",
    "March 2025"
   ]
  },
  {
   "cell_type": "markdown",
   "metadata": {},
   "source": [
    "This project aims to simulate a driven, damped harmonic oscillator."
   ]
  },
  {
   "cell_type": "markdown",
   "metadata": {},
   "source": [
    "The below function is an Euler solution to the equation of motion:\n",
    "\n",
    "$m \\frac{d^2 x(t)}{dt^2} + b \\frac{d x(t)}{dt} + kx(t) = F(t),$\n",
    "\n",
    "where the external force, $F(t)$ is $0$ (not driven) and accepting m, b, and k as inputs."
   ]
  },
  {
   "cell_type": "code",
   "execution_count": null,
   "metadata": {},
   "outputs": [],
   "source": []
  }
 ],
 "metadata": {
  "kernelspec": {
   "display_name": "base",
   "language": "python",
   "name": "python3"
  },
  "language_info": {
   "codemirror_mode": {
    "name": "ipython",
    "version": 3
   },
   "file_extension": ".py",
   "mimetype": "text/x-python",
   "name": "python",
   "nbconvert_exporter": "python",
   "pygments_lexer": "ipython3",
   "version": "3.11.5"
  }
 },
 "nbformat": 4,
 "nbformat_minor": 2
}
