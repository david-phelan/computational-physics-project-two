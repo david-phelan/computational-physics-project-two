{
 "cells": [
  {
   "cell_type": "markdown",
   "metadata": {},
   "source": [
    "# PHYS20762 - Project - \n",
    "\n",
    "David Phelan  \n",
    "University of Manchester  \n",
    "March 2025"
   ]
  },
  {
   "cell_type": "markdown",
   "metadata": {},
   "source": [
    "This project aims to simulate a driven, damped harmonic oscillator."
   ]
  },
  {
   "cell_type": "code",
   "execution_count": 166,
   "metadata": {},
   "outputs": [],
   "source": [
    "# Initilisation\n",
    "import numpy as np\n",
    "import matplotlib.pyplot as plt"
   ]
  },
  {
   "cell_type": "markdown",
   "metadata": {},
   "source": [
    "The below function is an Euler solution to the equation of motion:\n",
    "\n",
    "$m \\frac{d^2 x(t)}{dt^2} + b \\frac{d x(t)}{dt} + kx(t) = F(t),$\n",
    "\n",
    "where the external force, $F(t)$ is $0$ (not driven) and accepting m, b, and k as inputs."
   ]
  },
  {
   "cell_type": "code",
   "execution_count": 167,
   "metadata": {},
   "outputs": [],
   "source": [
    "def Euler_undriven(m, k, b, n, x0, v0, dt):\n",
    "    \"\"\"\n",
    "    Forward Euler method for the undriven (possibly damped) oscillator:\n",
    "        m x''(t) + b x'(t) + k x(t) = 0\n",
    "\n",
    "    Args:\n",
    "        m   (float): Mass of the oscillator.\n",
    "        k   (float): Spring constant.\n",
    "        b   (float): Damping coefficient (0 for no damping).\n",
    "        n   (int)  : Number of time steps.\n",
    "        x0  (float): Initial position x(0).\n",
    "        v0  (float): Initial velocity x'(0).\n",
    "        dt  (float): Timestep size.\n",
    "\n",
    "    Returns:\n",
    "        x (ndarray): Positions at each timestep (length n+1).\n",
    "        v (ndarray): Velocities at each timestep (length n+1).\n",
    "        a (ndarray): Accelerations at each timestep (length n+1).\n",
    "        t (ndarray): Array of time points from 0 to n*dt (length n+1).\n",
    "\n",
    "    Notes:\n",
    "        - This function implements the basic \"forward Euler\" scheme.\n",
    "        - The acceleration is computed via a[i+1] = -(k*x[i+1] + b*v[i+1]) / m\n",
    "          before x[i+1], v[i+1] are updated, matching your original code flow.\n",
    "        - For purely undamped motion, pass b=0.\n",
    "    \"\"\"\n",
    "    \n",
    "    time = np.linspace(0, n*dt, n+1)\n",
    "    \n",
    "    # Allocate arrays for position, velocity, and acceleration\n",
    "    position = np.zeros(n+1)\n",
    "    velocity = np.zeros(n+1)\n",
    "    acceleration = np.zeros(n+1)\n",
    "    \n",
    "    # Initial conditions\n",
    "    position[0] = x0\n",
    "    velocity[0] = v0\n",
    "    acceleration[0] = -(k * position[0] + b * velocity[0]) / m # Compute initial acceleration at t=0\n",
    "    \n",
    "    # Forward Euler time-stepping\n",
    "    for i in range(n):   \n",
    "        # Update velocity using the old acceleration\n",
    "        velocity[i+1] = velocity[i] + acceleration[i] * dt\n",
    "        \n",
    "        # Update position using the old velocity\n",
    "        position[i+1] = position[i] + velocity[i] * dt\n",
    "    \n",
    "        # Compute acceleration for the next index (as in your original code)\n",
    "        acceleration[i+1] = -(k * position[i+1] + b * velocity[i+1]) / m\n",
    "\n",
    "    return position, velocity, acceleration, time\n"
   ]
  },
  {
   "cell_type": "markdown",
   "metadata": {},
   "source": [
    "Below is code to verify that the Euler function is performing as expected, by checking generated values with expected values using the python keyword assert."
   ]
  },
  {
   "cell_type": "code",
   "execution_count": 168,
   "metadata": {},
   "outputs": [
    {
     "name": "stdout",
     "output_type": "stream",
     "text": [
      "All Euler_undriven tests passed successfully!\n"
     ]
    }
   ],
   "source": [
    "def test_Euler_undriven():\n",
    "    \"\"\"\n",
    "    Tests the Euler_undriven function in simple edge cases\n",
    "    to confirm that the solver behaves as expected.\n",
    "    \n",
    "    Scenario 1: \n",
    "        - m=1, k=0, b=0, x0=0, v0=0, dt=0.1\n",
    "        - Expect no forces and no initial motion => everything remains zero.\n",
    "    \n",
    "    Scenario 2:\n",
    "        - m=1, k=0, b=0, x0=2, v0=-1, dt=0.1\n",
    "        - Expect velocity remains constant at -1, \n",
    "          position decreases linearly with slope -1, \n",
    "          acceleration is always zero.\n",
    "    \"\"\"\n",
    "    # -- Scenario 1: no forces and no initial velocity --\n",
    "    from_module = Euler_undriven(m=1, k=0, b=0, x0=0, v0=0, dt=0.1, n=10)\n",
    "    x_arr, v_arr, a_arr, t_arr = from_module\n",
    "    \n",
    "    # Our expected arrays: everything should be zero (length n_stneps+1 = 11)\n",
    "    zeros_11 = np.zeros(11)\n",
    "    \n",
    "    # Assert they match (within floating-point tolerance)\n",
    "    assert np.allclose(x_arr, zeros_11), \"Scenario 1: x should remain zero.\"\n",
    "    assert np.allclose(v_arr, zeros_11), \"Scenario 1: v should remain zero.\"\n",
    "    assert np.allclose(a_arr, zeros_11), \"Scenario 1: a should remain zero.\"\n",
    "    \n",
    "    # -- Scenario 2: constant velocity, no forces --\n",
    "    from_module = Euler_undriven(m=1, k=0, b=0, x0=2, v0=-1, dt=0.1, n=10)\n",
    "    x_arr, v_arr, a_arr, t_arr = from_module\n",
    "    \n",
    "    # Time array for reference\n",
    "    # t_arr = [0.0, 0.1, 0.2, ..., 1.0] (length = 11)\n",
    "    \n",
    "    # The velocity should remain at -1:\n",
    "    expected_v = -1 * np.ones_like(t_arr)\n",
    "    # The position should be x(t) = 2 + v0 * t = 2 - 1 * t\n",
    "    expected_x = 2 - t_arr\n",
    "    # Acceleration should be zero (no spring, no damping)\n",
    "    expected_a = np.zeros_like(t_arr)\n",
    "    \n",
    "    assert np.allclose(v_arr, expected_v),  \"Scenario 2: velocity should stay at -1.\"\n",
    "    assert np.allclose(x_arr, expected_x),  \"Scenario 2: position should be linear in time.\"\n",
    "    assert np.allclose(a_arr, expected_a),  \"Scenario 2: acceleration should remain zero.\"\n",
    "    \n",
    "    print(\"All Euler_undriven tests passed successfully!\")\n",
    "\n",
    "test_Euler_undriven()"
   ]
  },
  {
   "cell_type": "markdown",
   "metadata": {},
   "source": [
    "The below function is an improved Euler solution to the equation of motion:\n",
    "\n",
    "$m \\frac{d^2 x(t)}{dt^2} + b \\frac{d x(t)}{dt} + kx(t) = F(t),$\n",
    "\n",
    "where the external force, $F(t)$ is $0$ (not driven) and accepting m, b, and k as inputs."
   ]
  },
  {
   "cell_type": "code",
   "execution_count": 169,
   "metadata": {},
   "outputs": [],
   "source": [
    "def ImprovedEuler_undriven(m, k, b, n, x0, v0, dt):\n",
    "    \"\"\"\n",
    "    Implements the 'Improved Euler' approach shown in the slide:\n",
    "        x_{i+1} = x_i + h * v_i + 0.5 * h^2 * a_i\n",
    "        v_{i+1} = v_i + h * a_i\n",
    "        a_i     = -(k/m)*x_i - (b/m)*v_i\n",
    "\n",
    "    Args:\n",
    "        m   : mass\n",
    "        k   : spring constant\n",
    "        b   : damping coefficient\n",
    "        n   : number of time steps\n",
    "        x0  : initial position\n",
    "        v0  : initial velocity\n",
    "        dt  : time step\n",
    "\n",
    "    Returns:\n",
    "        x, v, a, t\n",
    "          x, v, a are arrays of length (n+1);\n",
    "          t is the array of time points from 0 to n*dt.\n",
    "    \"\"\"\n",
    "\n",
    "    time = np.linspace(0, n*dt, n+1)\n",
    "    \n",
    "    position = np.zeros(n+1)\n",
    "    velocity = np.zeros(n+1)\n",
    "    acceleration = np.zeros(n+1)\n",
    "\n",
    "    # Initial conditions\n",
    "    position[0] = x0\n",
    "    velocity[0] = v0\n",
    "    acceleration[0] = -(k*position[0] + b*velocity[0]) / m  # acceleration at i=0\n",
    "\n",
    "    for i in range(n):\n",
    "        # Position update includes a half-step for the acceleration\n",
    "        position[i+1] = position[i] + dt*velocity[i] + 0.5*(dt**2)*acceleration[i]\n",
    "        \n",
    "        # Velocity update is the standard Euler step\n",
    "        velocity[i+1] = velocity[i] + dt*acceleration[i]\n",
    "\n",
    "        # Compute the new acceleration at i+1\n",
    "        acceleration[i+1] = -(k*position[i+1] + b*velocity[i+1]) / m\n",
    "\n",
    "    return position, velocity, acceleration, time"
   ]
  },
  {
   "cell_type": "markdown",
   "metadata": {},
   "source": [
    "Below is code to verify that the improved Euler function is performing as expected, by checking generated values with expected values using the python keyword assert."
   ]
  },
  {
   "cell_type": "code",
   "execution_count": 170,
   "metadata": {},
   "outputs": [
    {
     "name": "stdout",
     "output_type": "stream",
     "text": [
      "All tests for the Improved Euler (2nd-order) method passed successfully!\n"
     ]
    }
   ],
   "source": [
    "def test_ImprovedEuler_undriven():\n",
    "    \"\"\"\n",
    "    Tests the Improved Euler (2nd-order Taylor) method in simple edge cases:\n",
    "    \n",
    "    Scenario 1: \n",
    "        k=0, b=0, v0=0 => no force, no initial velocity\n",
    "        Expected: The mass stays at the initial position, with zero velocity/acceleration.\n",
    "\n",
    "    Scenario 2: \n",
    "        k=0, b=0, v0 != 0 => no force, nonzero initial velocity\n",
    "        Expected: The mass moves with constant velocity (v0) \n",
    "                  so x(t) = x0 + v0 * t, and a(t) = 0.\n",
    "    \"\"\"\n",
    "    # -----------------------------\n",
    "    # Scenario 1: No force, no initial motion\n",
    "    # -----------------------------\n",
    "    from_func = ImprovedEuler_undriven(m=1, k=0, b=0, n=10, x0=2, v0=0, dt=0.1)\n",
    "    x_arr, v_arr, a_arr, t_arr = from_func\n",
    "    \n",
    "    # All values should remain exactly the initial position, \n",
    "    # with zero velocity and zero acceleration.\n",
    "    expected_x = np.full_like(t_arr, 2.0)  # always at x=2\n",
    "    expected_v = np.zeros_like(t_arr)\n",
    "    expected_a = np.zeros_like(t_arr)\n",
    "    \n",
    "    assert np.allclose(x_arr, expected_x), \"Scenario 1: position should remain constant at 2.\"\n",
    "    assert np.allclose(v_arr, expected_v), \"Scenario 1: velocity should remain zero.\"\n",
    "    assert np.allclose(a_arr, expected_a), \"Scenario 1: acceleration should remain zero.\"\n",
    "\n",
    "    # -----------------------------\n",
    "    # Scenario 2: No force, but nonzero initial velocity\n",
    "    # -----------------------------\n",
    "    from_func = ImprovedEuler_undriven(m=1, k=0, b=0, n=10, x0=2, v0=-1, dt=0.1)\n",
    "    x_arr, v_arr, a_arr, t_arr = from_func\n",
    "    \n",
    "    # Velocity should stay at -1, position should decrease linearly\n",
    "    # x(t) = x0 + v0 * t = 2 - t\n",
    "    expected_v = -1.0 * np.ones_like(t_arr)\n",
    "    expected_x = 2.0 + (-1.0)*t_arr\n",
    "    expected_a = np.zeros_like(t_arr)\n",
    "    \n",
    "    assert np.allclose(v_arr, expected_v),  \"Scenario 2: velocity should remain constant at -1.\"\n",
    "    assert np.allclose(x_arr, expected_x),  \"Scenario 2: position should be 2 - t.\"\n",
    "    assert np.allclose(a_arr, expected_a),  \"Scenario 2: acceleration should remain zero.\"\n",
    "\n",
    "    print(\"All tests for the Improved Euler (2nd-order) method passed successfully!\")\n",
    "\n",
    "test_ImprovedEuler_undriven()"
   ]
  },
  {
   "cell_type": "markdown",
   "metadata": {},
   "source": [
    "The below function is an Euler-Cromer solution to the equation of motion:\n",
    "\n",
    "$m \\frac{d^2 x(t)}{dt^2} + b \\frac{d x(t)}{dt} + kx(t) = F(t),$\n",
    "\n",
    "where the external force, $F(t)$ is $0$ (not driven) and accepting m, b, and k as inputs."
   ]
  },
  {
   "cell_type": "code",
   "execution_count": 171,
   "metadata": {},
   "outputs": [],
   "source": [
    "def EulerCromer_undriven(m, k, b, n, x0, v0, dt):\n",
    "    \"\"\"\n",
    "    Euler–Cromer method for the undriven (possibly damped) oscillator:\n",
    "        m x'' + b x' + k x = 0\n",
    "\n",
    "    Updates:\n",
    "        v_{i+1} = v_i + dt * a_i\n",
    "        x_{i+1} = x_i + dt * v_{i+1}\n",
    "    where\n",
    "        a_i = -(k*x_i + b*v_i) / m.\n",
    "\n",
    "    Args:\n",
    "        m   (float): Mass of the oscillator\n",
    "        k   (float): Spring constant\n",
    "        b   (float): Damping coefficient (0 for no damping)\n",
    "        n   (int)  : Number of time steps\n",
    "        x0  (float): Initial position (x(0))\n",
    "        v0  (float): Initial velocity (x'(0))\n",
    "        dt  (float): Timestep size\n",
    "\n",
    "    Returns:\n",
    "        x (ndarray): Positions at each timestep (length n+1)\n",
    "        v (ndarray): Velocities at each timestep (length n+1)\n",
    "        a (ndarray): Accelerations at each timestep (length n+1)\n",
    "        t (ndarray): Time points from 0 to n*dt (length n+1)\n",
    "    \"\"\"\n",
    "    \n",
    "    time = np.linspace(0, n*dt, n+1)\n",
    "   \n",
    "    position = np.zeros(n+1)\n",
    "    velocity = np.zeros(n+1)\n",
    "    acceleration = np.zeros(n+1)\n",
    "\n",
    "    # Initial conditions\n",
    "    position[0] = x0\n",
    "    velocity[0] = v0\n",
    "    acceleration[0] = -(k*x0 + b*v0) / m\n",
    "\n",
    "    # Euler–Cromer loop\n",
    "    for i in range(n):\n",
    "        # Update velocity using the old acceleration\n",
    "        velocity[i+1] = velocity[i] + dt*acceleration[i]\n",
    "        # Update position using the new velocity\n",
    "        position[i+1] = position[i] + dt*velocity[i+1]\n",
    "        # Compute the new acceleration at i+1\n",
    "        acceleration[i+1] = -(k*position[i+1] + b*velocity[i+1]) / m\n",
    "\n",
    "    return position, velocity, acceleration, time"
   ]
  },
  {
   "cell_type": "markdown",
   "metadata": {},
   "source": [
    "Below is code to verify that the Euler-Cromer function is performing as expected, by checking generated values with expected values using the python keyword assert."
   ]
  },
  {
   "cell_type": "code",
   "execution_count": 172,
   "metadata": {},
   "outputs": [
    {
     "name": "stdout",
     "output_type": "stream",
     "text": [
      "All Euler-Cromer tests passed successfully!\n"
     ]
    }
   ],
   "source": [
    "def test_EulerCromer_undriven():\n",
    "    \"\"\"\n",
    "    Tests the Euler-Cromer method in simple edge cases:\n",
    "    \n",
    "    1) No force, no initial velocity => the mass should remain at rest.\n",
    "    2) No force, nonzero initial velocity => the mass moves at constant velocity.\n",
    "    \"\"\"\n",
    "    # --- Scenario 1: No force, no motion ---\n",
    "    x_arr, v_arr, a_arr, t_arr = EulerCromer_undriven(\n",
    "        m=1, k=0, b=0, n=10, x0=5, v0=0, dt=0.1\n",
    "    )\n",
    "    # Expect position=constant=5, velocity=0, acceleration=0\n",
    "    expected_x = np.full_like(t_arr, 5.0)\n",
    "    expected_v = np.zeros_like(t_arr)\n",
    "    expected_a = np.zeros_like(t_arr)\n",
    "\n",
    "    assert np.allclose(x_arr, expected_x), \"Scenario 1: x should remain at 5.\"\n",
    "    assert np.allclose(v_arr, expected_v), \"Scenario 1: v should remain 0.\"\n",
    "    assert np.allclose(a_arr, expected_a), \"Scenario 1: a should remain 0.\"\n",
    "\n",
    "    # --- Scenario 2: No force, constant velocity ---\n",
    "    x_arr, v_arr, a_arr, t_arr = EulerCromer_undriven(\n",
    "        m=1, k=0, b=0, n=10, x0=5, v0=2, dt=0.1\n",
    "    )\n",
    "    # Velocity=2, so x(t)=5 + 2*t, a(t)=0\n",
    "    expected_v = np.full_like(t_arr, 2.0)\n",
    "    expected_x = 5 + 2*t_arr\n",
    "    expected_a = np.zeros_like(t_arr)\n",
    "\n",
    "    assert np.allclose(v_arr, expected_v), \"Scenario 2: velocity should remain 2.\"\n",
    "    assert np.allclose(x_arr, expected_x), \"Scenario 2: position should be 5 + 2*t.\"\n",
    "    assert np.allclose(a_arr, expected_a), \"Scenario 2: acceleration should remain 0.\"\n",
    "\n",
    "    print(\"All Euler-Cromer tests passed successfully!\")\n",
    "\n",
    "test_EulerCromer_undriven()"
   ]
  },
  {
   "cell_type": "markdown",
   "metadata": {},
   "source": [
    "Verlet"
   ]
  },
  {
   "cell_type": "code",
   "execution_count": 173,
   "metadata": {},
   "outputs": [],
   "source": [
    "def Verlet_undriven(m, k, b, n, x0, v0, dt):\n",
    "    \"\"\"\n",
    "    Two-step method for the undriven (possibly damped) oscillator:\n",
    "        m x'' + b x' + k x = 0\n",
    "    using the recurrence relation:\n",
    "        x_{i+1} = A x_i + B x_{i-1},\n",
    "    with A, B as in the question. The first step x[1] is computed by\n",
    "    an improved-Euler-style update for consistency.\n",
    "\n",
    "    Args:\n",
    "        m   : Mass of the oscillator\n",
    "        k   : Spring constant\n",
    "        b   : Damping coefficient (0 => no damping)\n",
    "        n   : Number of time steps\n",
    "        x0  : Initial position, x(0)\n",
    "        v0  : Initial velocity, x'(0)\n",
    "        dt  : Timestep size, h\n",
    "\n",
    "    Returns:\n",
    "        x, v, a, t\n",
    "          x (ndarray): positions at each timestep (length n+1)\n",
    "          v (ndarray): velocities approximated by finite difference (length n+1)\n",
    "          a (ndarray): accelerations computed from x and v (length n+1)\n",
    "          t (ndarray): time points from 0..n*dt (length n+1)\n",
    "    \"\"\"\n",
    "\n",
    "    # Precompute constants for the two-step recurrence\n",
    "    D = 2*m + b*dt\n",
    "    A = 2.0*(2*m - k*(dt**2)) / D\n",
    "    B = (b*dt - 2*m) / D\n",
    "\n",
    "    time = np.linspace(0, n*dt, n+1)\n",
    "\n",
    "    position = np.zeros(n+1)\n",
    "    velocity = np.zeros(n+1)\n",
    "    acceleration = np.zeros(n+1)\n",
    "\n",
    "    # Initial conditions\n",
    "    position[0] = x0\n",
    "    velocity[0] = v0\n",
    "    # Acceleration at t=0\n",
    "    acceleration[0] = -(k*x0 + b*v0)/m\n",
    "\n",
    "    # -----------------------------------------------------------\n",
    "    # KICK-START STEP (i=0 --> i=1) using \"Improved Euler\" (2nd order)\n",
    "    #\n",
    "    # x1 = x0 + dt*v0 + 0.5*dt^2 * a0\n",
    "    # v1 = v0 + dt*a0\n",
    "    # -----------------------------------------------------------\n",
    "    position[1] = position[0] + dt*velocity[0] + 0.5*(dt**2)*acceleration[0]\n",
    "    velocity[1] = velocity[0] + dt*acceleration[0]\n",
    "    acceleration[1] = -(k*position[1] + b*velocity[1]) / m\n",
    "\n",
    "    # -----------------------------------------------------------\n",
    "    # MAIN LOOP: Two-step recurrence for x_{i+1},\n",
    "    # then derive v_{i+1} and a_{i+1} for consistency\n",
    "    # -----------------------------------------------------------\n",
    "    for i in range(1, n):\n",
    "        # Position update from the two-step formula\n",
    "        position[i+1] = A*position[i] + B*position[i-1]\n",
    "\n",
    "        # Approximate velocity via forward difference\n",
    "        velocity[i+1] = (position[i+1] - position[i]) / dt\n",
    "\n",
    "        # Compute acceleration from the ODE definition\n",
    "        acceleration[i+1] = -(k*position[i+1] + b*velocity[i+1]) / m\n",
    "\n",
    "    return position, velocity, acceleration, time\n"
   ]
  },
  {
   "cell_type": "markdown",
   "metadata": {},
   "source": [
    "Verlet tests"
   ]
  },
  {
   "cell_type": "code",
   "execution_count": 174,
   "metadata": {},
   "outputs": [
    {
     "name": "stdout",
     "output_type": "stream",
     "text": [
      "All Verlet_undriven tests passed!\n"
     ]
    }
   ],
   "source": [
    "def test_Verlet_undriven():\n",
    "    # Case 1: No force, no initial velocity => remain at rest, x=constant\n",
    "    x_arr, v_arr, a_arr, t_arr = Verlet_undriven(m=1, k=0, b=0, n=10, x0=2, v0=0, dt=0.1)\n",
    "    assert np.allclose(x_arr, 2), \"Position should remain at x=2.\"\n",
    "    assert np.allclose(v_arr, 0), \"Velocity should stay zero.\"\n",
    "    assert np.allclose(a_arr, 0), \"Acceleration should be zero.\"\n",
    "\n",
    "    # Case 2: No force, constant nonzero velocity => x(t)=x0 + v0*t\n",
    "    x_arr, v_arr, a_arr, t_arr = Verlet_undriven(m=1, k=0, b=0, n=10, x0=3, v0=1, dt=0.1)\n",
    "    expected_x = 3 + t_arr*1.0\n",
    "    assert np.allclose(x_arr, expected_x), \"Position should be x0 + v0*t.\"\n",
    "    assert np.allclose(v_arr, 1.0), \"Velocity should remain constant at 1.\"\n",
    "    assert np.allclose(a_arr, 0), \"Acceleration should remain zero.\"\n",
    "    \n",
    "    print(\"All Verlet_undriven tests passed!\")\n",
    "\n",
    "test_Verlet_undriven()"
   ]
  },
  {
   "cell_type": "markdown",
   "metadata": {},
   "source": [
    "Graph comparison"
   ]
  },
  {
   "cell_type": "code",
   "execution_count": 175,
   "metadata": {},
   "outputs": [
    {
     "data": {
      "image/png": "[encoded data removed]",
      "text/plain": [
       "<Figure size 640x480 with 1 Axes>"
      ]
     },
     "metadata": {},
     "output_type": "display_data"
    }
   ],
   "source": [
    "for function in [Euler_undriven, ImprovedEuler_undriven, EulerCromer_undriven, Verlet_undriven]:\n",
    "    # Parameters\n",
    "    m = 3.03\n",
    "    k = 1.35\n",
    "    b = 0\n",
    "    n = 1000\n",
    "    x0 = 0\n",
    "    v0 = -1\n",
    "    dt = 0.01\n",
    "\n",
    "    # Compute the solution\n",
    "    x, v, a, t = function(m, k, b, n, x0, v0, dt)\n",
    "\n",
    "    # Plot the position vs time\n",
    "    plt.plot(t, x, label=function.__name__)\n",
    "\n",
    "plt.xlabel('Time')\n",
    "plt.ylabel('Position')\n",
    "plt.legend()\n",
    "plt.show()"
   ]
  }
 ],
 "metadata": {
  "kernelspec": {
   "display_name": "base",
   "language": "python",
   "name": "python3"
  },
  "language_info": {
   "codemirror_mode": {
    "name": "ipython",
    "version": 3
   },
   "file_extension": ".py",
   "mimetype": "text/x-python",
   "name": "python",
   "nbconvert_exporter": "python",
   "pygments_lexer": "ipython3",
   "version": "3.11.5"
  }
 },
 "nbformat": 4,
 "nbformat_minor": 2
}
