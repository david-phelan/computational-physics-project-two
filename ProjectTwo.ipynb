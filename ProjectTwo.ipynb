{
 "cells": [
  {
   "cell_type": "markdown",
   "metadata": {},
   "source": [
    "# PHYS20762 Computational Physics\n",
    "## Project 2: Numerical Integration of Differential Equations\n",
    "### The Damped Harmonic Oscillator\n",
    "\n",
    "Author: David Phelan  \n",
    "The University of Manchester  \n",
    "Date: March 2025  \n",
    "\n",
    "---\n",
    "\n",
    "## 1. Introduction\n",
    "In this project, we study the motion of a damped harmonic oscillator with and without an external force, numerically solving the equation:\n",
    "\n",
    "$$m\\ddot{x} + b\\dot{x} + kx = F(t)$$\n",
    "\n",
    "where:\n",
    "- $m$ is the mass,\n",
    "- $k$ is the spring constant,\n",
    "- $b$ is the damping coefficient,\n",
    "- $F(t)$ is the external force applied to the system.\n",
    "\n",
    "The oscillator's behavior depends on damping and external forcing, leading to different physical regimes such as underdamped, critically damped, and overdamped motion.\n",
    "\n",
    "---\n",
    "\n",
    "### 1.1 Objectives\n",
    "This project aims to:\n",
    "- Implement four numerical methods to solve the equation:\n",
    "  1. Euler Method\n",
    "  2. Improved Euler Method\n",
    "  3. Verlet Method\n",
    "  4. Euler-Cromer Method\n",
    "- Compare the accuracy and stability of these methods.\n",
    "- Investigate how different damping values and time steps affect the solution.\n",
    "- Explore forced oscillations, including sudden applied forces and continuous sinusoidal driving.\n",
    "- Investigate resonance, plotting amplitude vs. frequency.\n",
    "\n",
    "These investigations provide insights into energy conservation, numerical stability, and real-world oscillatory systems."
   ]
  },
  {
   "cell_type": "markdown",
   "metadata": {},
   "source": [
    "# 2. Setup & Initialization\n",
    "Before numerically solving the equations of motion, we first set up the computational environment by:  \n",
    "- Installing and importing essential libraries.  \n",
    "- Ensuring all dependencies are available before proceeding.  \n",
    "\n",
    "### Imported Libraries\n",
    "- `numpy` – for numerical computations and array handling.  \n",
    "- `matplotlib.pyplot` – for plotting and visualizing results.  \n",
    "- `cmath` – for handling complex numbers in analytical solutions.  \n",
    "\n",
    "These libraries provide the necessary tools to implement and analyze the numerical methods effectively."
   ]
  },
  {
   "cell_type": "code",
   "execution_count": null,
   "metadata": {},
   "outputs": [],
   "source": [
    "# Install required packages (only run this (once) if needed)\n",
    "%pip install numpy\n",
    "%pip install matplotlib"
   ]
  },
  {
   "cell_type": "code",
   "execution_count": null,
   "metadata": {},
   "outputs": [],
   "source": [
    "# Import required libraries\n",
    "import numpy as np\n",
    "import matplotlib.pyplot as plt\n",
    "import cmath"
   ]
  },
  {
   "cell_type": "markdown",
   "metadata": {},
   "source": [
    "## 2.1 Defining a General Simulation Framework\n",
    "Before implementing specific numerical methods, we establish a base class that models the general behavior of a mass-spring-damper system.\n",
    "\n",
    "### Overview of the `Simulation` Class\n",
    "The `Simulation` class serves as a general framework for solving the system’s equations of motion. It:  \n",
    "- Stores key system parameters such as mass, spring constant, damping coefficient, and initial conditions.  \n",
    "- Defines a `simulate()` function to handle time evolution.  \n",
    "- Uses `force_at_time()` to compute restoring forces, damping, and external driving forces.  \n",
    "- Provides an abstract method `simulate_at_index()`, which is overridden by specific numerical methods to implement their update rules.\n",
    "\n",
    "### How the Simulation Works\n",
    "1. The system starts at position $x_0$ and velocity $v_0$.  \n",
    "2. The simulation steps through time:  \n",
    "   - `simulate_at_index()` computes position and velocity updates.  \n",
    "   - External and damping forces are evaluated using `force_at_time()`.  \n",
    "   - Updated values are stored for analysis.  \n",
    "3. The function returns simulation data, including position, velocity, acceleration, and time arrays.\n",
    "\n",
    "This structured approach ensures that all numerical solvers share a common framework, improving code organization, reusability, and scalability.\n",
    "\n",
    "Now, we define the `Simulation` class below."
   ]
  },
  {
   "cell_type": "markdown",
   "metadata": {},
   "source": [
    "### Parameter Naming Convention\n",
    "In the `Simulation` class, parameters follow standard physics notation for clarity:\n",
    "- `m`: mass of the oscillator.\n",
    "- `k`: spring constant.\n",
    "- `b`: damping coefficient.\n",
    "- `t`: total simulation time.\n",
    "- `n`: number of time steps.\n",
    "- `x0`: initial position\n",
    "- `v0`: initial velocity\n",
    "\n",
    "These are assigned to descriptive attributes (`self.mass`, `self.spring_constant`, etc.) for readability.\n"
   ]
  },
  {
   "cell_type": "code",
   "execution_count": null,
   "metadata": {},
   "outputs": [],
   "source": [
    "class Simulation:\n",
    "    \"\"\"Base simulation class for a mass-spring-damper system.\"\"\"\n",
    "    def __init__(self, name, mass, spring_constant, damping, step_size, runtime, initial_position, initial_velocity):\n",
    "        self.name = name\n",
    "        self.mass = mass\n",
    "        self.spring_constant = spring_constant\n",
    "        self.damping_coefficient = damping\n",
    "        self.time_step = step_size\n",
    "        self.steps = int(runtime / step_size)\n",
    "        self.points = self.steps + 1\n",
    "        self.runtime = runtime\n",
    "        self.initial_position = initial_position\n",
    "        self.initial_velocity = initial_velocity\n",
    "    \n",
    "    def simulate_at_index(self, i, position_array, velocity_array, acceleration_array):\n",
    "        return self.simulate_next_position(position_array[i], velocity_array[i], acceleration_array[i])\n",
    "\n",
    "    def simulate_next_position(self, x_current, v_current, a_current):\n",
    "        \"\"\"\n",
    "        Called by simulate() at each time step.\n",
    "        Must return (position, velocity) at step i.\n",
    "        \"\"\"\n",
    "        raise NotImplementedError(\"Override this method in subclasses.\")\n",
    "\n",
    "    def force_at_time(self, time, x_next, v_next):\n",
    "        return -(self.spring_constant * x_next + self.damping_coefficient * v_next)\n",
    "    \n",
    "    def simulate(self):\n",
    "        # Create arrays to store time, position, velocity, and acceleration\n",
    "        time_array = np.linspace(0, self.runtime, self.points)\n",
    "        position_array = np.zeros(self.points)\n",
    "        velocity_array = np.zeros(self.points)\n",
    "        acceleration_array = np.zeros(self.points)\n",
    "\n",
    "        # Set initial conditions\n",
    "        position_array[0] = self.initial_position\n",
    "        velocity_array[0] = self.initial_velocity\n",
    "\n",
    "        # Compute initial acceleration using the force equation\n",
    "        acceleration_array[0] = self.force_at_time(0, self.initial_position, self.initial_velocity) / self.mass\n",
    "\n",
    "        # Step through in time\n",
    "        for i in range(self.steps):\n",
    "            \n",
    "            # Compute the next position and velocity using a numerical method\n",
    "            x_next, v_next = self.simulate_at_index(i, position_array, velocity_array, acceleration_array)\n",
    "            time = time_array[i]\n",
    "\n",
    "            # Store computed values\n",
    "            position_array[i+1] = x_next\n",
    "            velocity_array[i+1] = v_next\n",
    "\n",
    "            # Compute and store acceleration at the new time step\n",
    "            acceleration_array[i+1] = self.force_at_time(time, x_next, v_next) / self.mass\n",
    "\n",
    "        # Return the full arrays for further analysis\n",
    "        return position_array, velocity_array, acceleration_array, time_array"
   ]
  },
  {
   "cell_type": "markdown",
   "metadata": {},
   "source": [
    "---\n",
    "## 2.2 Implementing Numerical Methods\n",
    "Now that we have a general simulation framework, we implement four numerical methods, all of which support driven motion:\n",
    "\n",
    "1. **Euler Method** – The simplest method but suffers from instability.\n",
    "2. **Improved Euler Method** – A refinement with better accuracy.\n",
    "3. **Verlet Method** – A time-symmetric method commonly used in physics simulations.\n",
    "4. **Euler-Cromer Method** – A stable variant of Euler’s method.\n",
    "\n",
    "Each method extends the `Simulation` class and overrides `simulate_at_index()` to apply its own numerical integration scheme"
   ]
  },
  {
   "cell_type": "markdown",
   "metadata": {},
   "source": [
    "---\n",
    "### 2.2.1 Driven Euler Method\n",
    "The Euler Method is the simplest numerical integrator, but it can be unstable for large step sizes. It updates velocity and position explicitly at each time step."
   ]
  },
  {
   "cell_type": "code",
   "execution_count": null,
   "metadata": {},
   "outputs": [],
   "source": [
    "class EulerSimulation(Simulation):\n",
    "    def __init__(self, m, k, b, n, t, x0, v0):\n",
    "        \n",
    "        super().__init__(\"Euler\", m, k, b, n, t, x0, v0)\n",
    "\n",
    "    def simulate_next_position(self, x_current, v_current, a_current):\n",
    "        \n",
    "        x_next = x_current + v_current * self.time_step\n",
    "        v_next = v_current + a_current * self.time_step\n",
    "\n",
    "        return x_next, v_next"
   ]
  },
  {
   "cell_type": "markdown",
   "metadata": {},
   "source": [
    "---\n",
    "### 2.2.2 Driven Improved Euler Method\n",
    "The Improved Euler Method (Heun’s method) refines the basic Euler method by using an intermediate velocity estimate, reducing error accumulation."
   ]
  },
  {
   "cell_type": "code",
   "execution_count": null,
   "metadata": {},
   "outputs": [],
   "source": [
    "class ImprovedEulerSimulation(Simulation):\n",
    "    def __init__(self, m, k, b, n, t, x0, v0):\n",
    "        \n",
    "        super().__init__(\"Improved Euler\", m, k, b, n, t, x0, v0)\n",
    "\n",
    "    def simulate_next_position(self, x_current, v_current, a_current):\n",
    "        \n",
    "        x_next = x_current + v_current * self.time_step + 0.5 * self.time_step**2 * a_current\n",
    "        v_next = v_current + a_current * self.time_step\n",
    "\n",
    "        return x_next, v_next"
   ]
  },
  {
   "cell_type": "markdown",
   "metadata": {},
   "source": [
    "---\n",
    "### 2.2.3 Driven Verlet Method\n",
    "The Verlet Method is commonly used in physics simulations due to its time-reversible nature and improved energy conservation."
   ]
  },
  {
   "cell_type": "code",
   "execution_count": null,
   "metadata": {},
   "outputs": [],
   "source": [
    "class VerletSimulation(Simulation):\n",
    "    def __init__(self, m, k, b, n, t, x0, v0):       \n",
    "        super().__init__(\"Verlet\", m, k, b, n, t, x0, v0)\n",
    "        self.D = 2*m + b*self.time_step\n",
    "        self.A = 2.0*(2*m - k*(self.time_step**2)) / self.D\n",
    "        self.B = (b*self.time_step - 2*m) / self.D\n",
    "\n",
    "    def simulate_at_index(self, i, position_array, velocity_array, acceleration_array):\n",
    "      if i == 0:\n",
    "        x_next = position_array[0] + velocity_array[0] * self.time_step + 0.5 * self.time_step**2 * acceleration_array[0]\n",
    "        v_next = velocity_array[0] + acceleration_array[0] * self.time_step\n",
    "      \n",
    "      else:\n",
    "        x_next = self.A * position_array[i] + self.B * position_array[i-1]\n",
    "        v_next = (x_next - position_array[i]) / self.time_step #?\n",
    "\n",
    "      return x_next, v_next\n",
    "    \n",
    "class DrivenVerletSimulation(Simulation):\n",
    "    def __init__(self, m, k, b, n, t, x0, v0, force):\n",
    "        super().__init__(\"Driven Verlet\", m, k, b, n, t, x0, v0)\n",
    "        self.force = force\n",
    "        self.D = 2*m + b*self.time_step\n",
    "        self.A = 2.0*(2*m - k*(self.time_step**2)) / self.D\n",
    "        self.B = (b*self.time_step - 2*m) / self.D\n",
    "\n",
    "    def force_at_time(self, time, x_next, v_next):\n",
    "        base_force = super().force_at_time(time, x_next, v_next)\n",
    "        external_force = self.force(time)\n",
    "        return base_force + external_force\n",
    "\n",
    "    def simulate_at_index(self, i, position_array, velocity_array, acceleration_array):\n",
    "        if i == 0:\n",
    "            # Use velocity Verlet for the first step\n",
    "            x_next = position_array[0] + velocity_array[0] * self.time_step + 0.5 * self.time_step**2 * acceleration_array[0]\n",
    "            v_next = velocity_array[0] + acceleration_array[0] * self.time_step\n",
    "        else:\n",
    "            # Apply the external force at time t_i\n",
    "            time = i * self.time_step\n",
    "            force_current = self.force_at_time(time + 0.5 * self.time_step, position_array[i], velocity_array[i])\n",
    "\n",
    "            # Verlet position update (with external force)\n",
    "            x_next = self.A * position_array[i] + self.B * position_array[i-1] + (force_current / self.mass) * self.time_step**2\n",
    "            \n",
    "            # Velocity update using the central difference method\n",
    "            v_next = velocity_array[i] + (force_current / self.mass) * self.time_step\n",
    "\n",
    "        return x_next, v_next\n"
   ]
  },
  {
   "cell_type": "markdown",
   "metadata": {},
   "source": [
    "---\n",
    "### **2.2.4 Driven Euler-Cromer Method**\n",
    "The **Euler-Cromer Method** is a modification of Euler’s method that updates velocity before position, improving stability for oscillatory motion."
   ]
  },
  {
   "cell_type": "code",
   "execution_count": null,
   "metadata": {},
   "outputs": [],
   "source": [
    "class EulerCromerSimulation(Simulation):\n",
    "    def __init__(self, m, k, b, n, t, x0, v0):\n",
    "        \n",
    "        super().__init__(\"Euler Cromer\", m, k, b, n, t, x0, v0)\n",
    "\n",
    "    def simulate_next_position(self, x_current, v_current, a_current):\n",
    "        \n",
    "        v_next = v_current + a_current * self.time_step\n",
    "        x_next = x_current + v_next * self.time_step\n",
    "        return x_next, v_next\n",
    "    \n",
    "class DrivenEulerCromerSimulation(Simulation):\n",
    "    def __init__(self, m, k, b, n, t, x0, v0, force):\n",
    "        super().__init__(\"Driven Euler Cromer\", m, k, b, n, t, x0, v0)\n",
    "        self.force = force\n",
    "\n",
    "    def force_at_time(self, time, x_next, v_next):\n",
    "        base_force = super().force_at_time(time, x_next, v_next)\n",
    "        external_force = self.force(time)\n",
    "        return base_force + external_force\n",
    "\n",
    "    def simulate_at_index(self, i, position_array, velocity_array, acceleration_array):\n",
    "        # Get the correct time from time_array\n",
    "        time = self.time_step * i  # If needed, use time_array[i] if passed in simulate()\n",
    "\n",
    "        # Compute the total force at this time step\n",
    "        force_current = self.force_at_time(time, position_array[i], velocity_array[i])\n",
    "\n",
    "        # Compute acceleration at step i (apply force correctly)\n",
    "        a_next = force_current / self.mass\n",
    "\n",
    "        # Update velocity using Euler-Cromer method\n",
    "        v_next = velocity_array[i] + a_next * self.time_step\n",
    "\n",
    "        # Update position using the updated velocity\n",
    "        x_next = position_array[i] + v_next * self.time_step\n",
    "\n",
    "        return x_next, v_next\n"
   ]
  },
  {
   "cell_type": "markdown",
   "metadata": {},
   "source": [
    "---\n",
    "## **2.3 Analytical Solution**\n",
    "In addition to the numerical methods, we implement the **analytical solution** for the damped harmonic oscillator.\n",
    "\n",
    "The general equation of motion:\n",
    "\n",
    "$m\\ddot{x} + b\\dot{x} + kx = 0$\n",
    "\n",
    "has the analytical solution:\n",
    "\n",
    "$x(t) = e^{-\\frac{b}{2m} t} \\left( A e^{\\frac{1}{2} i \\omega_{\\text{damped}} t} + B e^{-\\frac{1}{2} i \\omega_{\\text{damped}} t} \\right)$\n",
    "\n",
    "where:\n",
    "\n",
    "$\\omega_{\\text{damped}} = \\sqrt{4 k m - b^2}$\n",
    "\n",
    "The constants $A$ and $B$ are determined from the initial conditions.\n",
    "\n",
    "This function provides an exact reference to compare against the numerical results."
   ]
  },
  {
   "cell_type": "code",
   "execution_count": null,
   "metadata": {},
   "outputs": [],
   "source": [
    "def analytical_solution(m,k,b,t,x0,v0):\n",
    "    time = t\n",
    "    omega_damped = cmath.sqrt(4*k*m-b**2)\n",
    "    assert omega_damped.imag == 0, \"We cannot continue, we have an imaginary thing\"\n",
    "\n",
    "    A = (b/(2*1j*omega_damped)+1/2)*x0+v0*m/(omega_damped*1j) \n",
    "    B = x0-A\n",
    "    \n",
    "    exponential_component = np.exp(-b*time/(2*m))\n",
    "    sinusoidal_component = (A*np.exp(1j*omega_damped*time/(2*m))\n",
    "                            +B*np.exp(-1j*omega_damped*time/(2*m)))\n",
    "\n",
    "    return sinusoidal_component * exponential_component\n"
   ]
  },
  {
   "cell_type": "markdown",
   "metadata": {},
   "source": [
    "---\n",
    "## **3. Comparing Numerical and Analytical Solutions**\n",
    "To evaluate the accuracy of the numerical methods, we compare their results against the **analytical solution**.\n",
    "\n",
    "This is done by:\n",
    "1. Running each numerical method for given parameters.\n",
    "2. Plotting **position vs. time** for each method.\n",
    "3. Overlaying the **analytical solution** for direct comparison.\n",
    "\n",
    "The function below automates this process by allowing:\n",
    "- Different damping values.\n",
    "- Different step sizes.\n",
    "- Multiple numerical methods.\n",
    "- Optionally including the analytical solution."
   ]
  },
  {
   "cell_type": "code",
   "execution_count": null,
   "metadata": {},
   "outputs": [],
   "source": [
    "def plot_simulation(simulation_type, step_size_array=None, mass=3.03, spring_constant=1.35, damping_coefficient_array=None, runtime=100, initial_position=0, initial_velocity=-1, include_analytical=False, external_force=None):\n",
    "    damping_coefficient_array = damping_coefficient_array if damping_coefficient_array is not None else [0]\n",
    "    step_size_array = step_size_array if step_size_array is not None else [0.02]\n",
    "    for damping_coefficient in damping_coefficient_array:\n",
    "        for step_size in step_size_array:\n",
    "            # Compute the solution\n",
    "            simulation = simulation_type(mass, spring_constant, damping_coefficient, step_size, runtime, initial_position, initial_velocity)\n",
    "            position, velocity, acceleration, time_array = simulation.simulate()\n",
    "            # Plot the position vs time\n",
    "\n",
    "            def append_label_details(label):\n",
    "                if len(step_size_array) > 1:\n",
    "                    label += f\", Step Size: {step_size:.2f}\"\n",
    "\n",
    "                if len(damping_coefficient_array) > 1:\n",
    "                    label += f\", Damping: {damping_coefficient:.2f}\"\n",
    "\n",
    "                return label\n",
    "\n",
    "            plt.plot(time_array, position, label=append_label_details(simulation.name), linestyle='--')\n",
    "\n",
    "\n",
    "            if external_force is not None:\n",
    "                force_array = np.array([external_force(t) for t in time_array])\n",
    "                plt.plot(time_array, force_array, label=append_label_details('External Force'), linestyle='--')\n",
    "                \n",
    "        if include_analytical:\n",
    "            plt.plot(time_array, analytical_solution(mass, spring_constant, damping_coefficient, time_array, initial_position, initial_velocity), label='Analytical', linestyle='--')\n",
    "\n",
    "    plt.title('Position vs Time')\n",
    "    plt.xlabel('Time')\n",
    "    plt.ylabel('Position')\n",
    "    plt.legend()\n",
    "    plt.show()"
   ]
  },
  {
   "cell_type": "markdown",
   "metadata": {},
   "source": [
    "---\n",
    "### **3.1 Running the Comparison**\n",
    "The following plot shows the **position vs. time** for each numerical method compared to the analytical solution.\n",
    "\n",
    "- **System parameters:**\n",
    "  - Mass: **3.03 kg**\n",
    "  - Spring constant: **1.35 N/m**\n",
    "  - Initial conditions: $x_0 = 0$, $v_0 = -1$\n",
    "  - **Time step: h = 0.02 s** $\\left(h = \\frac{t}{n} = \\frac{400}{20000}\\right)$\n",
    "  - Total simulation time: **400 s**\n",
    "  - Damping: **$b = 0$ (undamped case)**\n",
    "\n",
    "This will illustrate the accuracy of each method in predicting the system's motion."
   ]
  },
  {
   "cell_type": "code",
   "execution_count": null,
   "metadata": {},
   "outputs": [],
   "source": [
    "plot_simulation(EulerSimulation, runtime=200, include_analytical=True)"
   ]
  },
  {
   "cell_type": "code",
   "execution_count": null,
   "metadata": {},
   "outputs": [],
   "source": [
    "plot_simulation(ImprovedEulerSimulation, runtime=200, include_analytical=True)"
   ]
  },
  {
   "cell_type": "code",
   "execution_count": null,
   "metadata": {},
   "outputs": [],
   "source": [
    "plot_simulation(EulerCromerSimulation, runtime=200, include_analytical=True)"
   ]
  },
  {
   "cell_type": "code",
   "execution_count": null,
   "metadata": {},
   "outputs": [],
   "source": [
    "plot_simulation(VerletSimulation, runtime=200, include_analytical=True)"
   ]
  },
  {
   "cell_type": "markdown",
   "metadata": {},
   "source": [
    "---\n",
    "### **3.2 Observations from the Plots**\n",
    "The position vs. time plots reveal key differences between the numerical methods and the analytical solution.\n",
    "\n",
    "#### **Accuracy of Numerical Methods**\n",
    "- **Euler’s Method:**  \n",
    "  - Displays noticeable **numerical drift**.\n",
    "  - Less accurate due to error accumulation.\n",
    "  - Can become unstable for larger step sizes.\n",
    "\n",
    "- **Improved Euler Method:**  \n",
    "  - Provides better accuracy than basic Euler.\n",
    "  - Reduces numerical drift but still deviates slightly.\n",
    "\n",
    "- **Euler-Cromer Method:**  \n",
    "  - Matches the analytical solution **very closely**.\n",
    "  - More stable for oscillatory motion.\n",
    "\n",
    "- **Verlet Method:**  \n",
    "  - Performs well in undamped cases.\n",
    "  - Displays **minor deviations** in driven cases, possibly due to force handling.\n",
    "\n",
    "\n",
    "#### **Comparison with Analytical Solution**\n",
    "- **Euler-Cromer and Verlet** closely match the analytical solution.\n",
    "- **Euler and Improved Euler** show deviations due to numerical errors."
   ]
  },
  {
   "cell_type": "markdown",
   "metadata": {},
   "source": [
    "---\n",
    "### **3.3 Effect of Time Step on Accuracy**\n",
    "To further evaluate the numerical methods, we investigate how the choice of **time step ($ h $)** affects accuracy.\n",
    "\n",
    "We run the simulation for multiple values of $ h $ and compare:\n",
    "- **Numerical stability** across methods.\n",
    "- **Deviation from the analytical solution** as $ h $ increases.\n",
    "- **Error accumulation in explicit methods like Euler.**\n",
    "\n",
    "Below, we plot the position vs. time curves for different time step sizes."
   ]
  },
  {
   "cell_type": "code",
   "execution_count": null,
   "metadata": {},
   "outputs": [],
   "source": [
    "plot_simulation(EulerSimulation, runtime=200, step_size_array=np.array([0.02, 0.01, 0.005, 0.0025]))"
   ]
  },
  {
   "cell_type": "code",
   "execution_count": null,
   "metadata": {},
   "outputs": [],
   "source": [
    "plot_simulation(ImprovedEulerSimulation, runtime=200, step_size_array=np.array([0.02, 0.01, 0.005, 0.0025]))"
   ]
  },
  {
   "cell_type": "code",
   "execution_count": null,
   "metadata": {},
   "outputs": [],
   "source": [
    "plot_simulation(EulerCromerSimulation, runtime=200, step_size_array=np.array([0.02, 0.01, 0.005, 0.0025]))"
   ]
  },
  {
   "cell_type": "code",
   "execution_count": null,
   "metadata": {},
   "outputs": [],
   "source": [
    "plot_simulation(VerletSimulation, runtime=200, step_size_array=np.array([0.02, 0.01, 0.005, 0.0025]))"
   ]
  },
  {
   "cell_type": "markdown",
   "metadata": {},
   "source": [
    "The accuracy of Euler and ImprovedEuler greatly improves upon decreasing step size, whereas Euler-Cromer and Verlet are perfectly accurate from the beginning\n",
    "- can see accuracy improves because the energy no longer diverges but remains more constant as step size decreases (it should be constant for no damping and no external force)"
   ]
  },
  {
   "cell_type": "markdown",
   "metadata": {},
   "source": [
    "---\n",
    "## **3.4 Observations on Time Step Dependence**\n",
    "The results show that:\n",
    "- **Euler’s Method** diverges quickly for larger time steps.\n",
    "- **Improved Euler performs better**, but deviations from the analytical solution increase as $h$ grows.\n",
    "- **Euler-Cromer and Verlet remain visually indistinguishable from the analytical solution** across all tested step sizes.\n",
    "\n",
    "### **Why We Expect Certain Methods to Perform Better**\n",
    "From a numerical perspective, **Euler-Cromer and Verlet should be the best methods** because they are **symplectic integrators**, meaning they approximately **conserve energy** over time.  \n",
    "\n",
    "Conversely:\n",
    "- **Euler and Improved Euler are not symplectic**, so their energy diverges, introducing growing numerical errors.\n",
    "- We expect Euler’s method to show the **largest energy drift**, while Euler-Cromer and Verlet should show **bounded errors**.\n",
    "\n",
    "### **Further Analysis: Investigating Numerical Errors**\n",
    "Since Euler-Cromer and Verlet both appear accurate from position plots alone, we need **a more quantitative analysis** to determine which method is truly closest to the analytical solution.\n",
    "\n",
    "To do this, we now examine:\n",
    "1. **Absolute errors**: Difference between numerical and analytical solutions.\n",
    "2. **Energy conservation**: How well each method preserves total energy over time.\n",
    "\n",
    "The following section explores these error metrics."
   ]
  },
  {
   "cell_type": "markdown",
   "metadata": {},
   "source": [
    "---\n",
    "## **3.5 Comparing Energy Conservation: Euler-Cromer vs. Verlet**\n",
    "Since Euler-Cromer and Verlet are **symplectic integrators**, we expect them to **approximately conserve energy**, unlike Euler and Improved Euler, which exhibit clear numerical drift.\n",
    "\n",
    "To quantitatively compare their accuracy:\n",
    "1. **We skip direct energy plots for all methods**—we already know Euler and Improved Euler fail.\n",
    "2. **Instead, we plot absolute energy errors**, comparing Euler-Cromer and Verlet to the analytical energy.\n",
    "3. **The method with the smallest energy error is the most accurate.**\n",
    "\n",
    "---"
   ]
  },
  {
   "cell_type": "markdown",
   "metadata": {},
   "source": [
    "## **4. Damping Analysis**\n",
    "In this section, we investigate the effect of **different damping strengths** on the motion of a simple harmonic oscillator. \n",
    "\n",
    "The damping coefficient, $b$, determines how quickly the oscillations decay over time. The key reference point for damping is the **critical damping value**:\n",
    "\n",
    "$$ b_{\\text{cr}} = \\sqrt{4km} $$\n",
    "\n",
    "where:\n",
    "- $k = 1.35$ is the spring constant,\n",
    "- $m = 3.03$ is the mass of the oscillator.\n",
    "\n",
    "To explore different damping regimes, we plot the motion of the oscillator for:\n",
    "1. **Undamped case:** $b = 0$ (simple harmonic motion),\n",
    "2. **Underdamped case:** $b = 0.5 b_{\\text{cr}}$,\n",
    "3. **Critically damped case:** $b = b_{\\text{cr}}$,\n",
    "4. **Overdamped case:** $b = 2 b_{\\text{cr}}$.\n",
    "\n",
    "### **Expected Behaviour**\n",
    "- **Underdamped ($b < b_{\\text{cr}}$)**: Oscillations gradually decay over time.\n",
    "- **Critically damped ($b = b_{\\text{cr}}$)**: The system returns to equilibrium **as fast as possible** without oscillating.\n",
    "- **Overdamped ($b > b_{\\text{cr}}$)**: The system returns to equilibrium **slowly**, with no oscillations.\n",
    "\n",
    "Below, we plot the position vs. time for each case using the **Euler-Cromer method**."
   ]
  },
  {
   "cell_type": "code",
   "execution_count": null,
   "metadata": {},
   "outputs": [],
   "source": [
    "b_critical = np.sqrt(4*3.03*1.35)\n",
    "plot_simulation(EulerCromerSimulation, damping_coefficient_array=[0, 0.5*b_critical, b_critical, 2*b_critical], runtime=30)"
   ]
  },
  {
   "cell_type": "markdown",
   "metadata": {},
   "source": [
    "## **4.1 Analysis of Damping Effects on the Oscillator**\n",
    "The plot above illustrates how the **damping coefficient, $b$**, affects the motion of the oscillator over time. We observe four different cases:\n",
    "\n",
    "1. **Undamped Case ($b = 0$)**:  \n",
    "   - The system undergoes **simple harmonic motion**, oscillating indefinitely with a constant amplitude.\n",
    "   - There is no decay in amplitude because no energy is lost from the system.\n",
    "\n",
    "2. **Underdamped Case ($b = 0.5 b_{\\text{cr}}$)**:  \n",
    "   - The oscillations gradually decrease in amplitude over time.\n",
    "   - The system still oscillates but eventually settles to equilibrium as energy is dissipated.\n",
    "\n",
    "3. **Critically Damped Case ($b = b_{\\text{cr}}$)**:  \n",
    "   - The system returns to equilibrium **as quickly as possible** without oscillating.\n",
    "   - This is the fastest possible return to equilibrium without overshooting.\n",
    "\n",
    "4. **Overdamped Case ($b = 2 b_{\\text{cr}}$)**:  \n",
    "   - The system returns to equilibrium **more slowly** than the critically damped case.\n",
    "   - No oscillations occur, but the motion is sluggish.\n",
    "\n",
    "### **🔹 Key Observations**\n",
    "- **As $b$ increases, oscillations decrease in amplitude and eventually vanish.**\n",
    "- **The critically damped case returns to equilibrium faster than the overdamped case.**\n",
    "- **The overdamped system is even slower to settle, as damping dominates the restoring force.**\n",
    "\n",
    "### **✅ Conclusion**\n",
    "This experiment confirms the theoretical predictions of **damped harmonic motion**.  \n",
    "- **Underdamping** allows oscillations to persist but reduces their amplitude over time.  \n",
    "- **Critical damping** provides the most efficient return to equilibrium.  \n",
    "- **Overdamping** removes oscillations but slows down the return process.  "
   ]
  },
  {
   "cell_type": "markdown",
   "metadata": {},
   "source": [
    "Verlet with varying force and force time interval\n",
    "Lambda is going in not cfbi"
   ]
  },
  {
   "cell_type": "markdown",
   "metadata": {},
   "source": [
    "# **5. Driven Oscillations: The Effect of External Forces**\n",
    "So far, we have examined the natural motion of a mass-spring-damper system under different damping conditions. In this section, we introduce **external forces** to explore how they influence the system's motion.\n",
    "\n",
    "---\n",
    "\n",
    "## **5.0 Key Objectives**\n",
    "- Understand how **short-duration forces** modify motion depending on **timing and velocity direction**.\n",
    "- Analyze the behavior of a **sinusoidally driven oscillator** and compare it with natural oscillations.\n",
    "- Investigate the role of **resonance** when the driving frequency approaches the natural frequency.\n",
    "\n",
    "---\n",
    "\n",
    "# **5.1 Sudden Application of a Force (\"A Push\")**\n",
    "A **short-lived external force** is applied after the system has oscillated for some time. This models a **sudden push**, similar to kicking a pendulum. We investigate:\n",
    "- **Forces applied in the same direction as velocity** (which increase amplitude).\n",
    "- **Forces applied opposite to velocity** (which reduce amplitude).\n",
    "- **Forces applied at different points in the oscillation cycle** (which affect motion differently).\n",
    "\n",
    "This analysis helps us understand **how timing and direction of external forces impact energy transfer**."
   ]
  },
  {
   "cell_type": "markdown",
   "metadata": {},
   "source": [
    "The following is a function that produces a constant force between a time interval. The force functions all take the format $F(t)$, so the function returns a lambda that accepts time as a parameter."
   ]
  },
  {
   "cell_type": "code",
   "execution_count": null,
   "metadata": {},
   "outputs": [],
   "source": [
    "def contant_force_between_interval(force, interval):\n",
    "    return lambda time: force if interval[0] <= time <= interval[1] else 0"
   ]
  },
  {
   "cell_type": "markdown",
   "metadata": {},
   "source": [
    "A small helper function to plot a driven Euler Cromer simulation given an external force function"
   ]
  },
  {
   "cell_type": "code",
   "execution_count": null,
   "metadata": {},
   "outputs": [],
   "source": [
    "def plot_with_external_force(external_force, damping=0, initial_velocity=-1):\n",
    "    plot_simulation(lambda m, k, b, n, t, x0, v0: DrivenEulerCromerSimulation(m, k, b, n, t, x0, v0, external_force), damping_coefficient_array=[damping], initial_velocity=initial_velocity, external_force=external_force)"
   ]
  },
  {
   "cell_type": "markdown",
   "metadata": {},
   "source": [
    "A push, in the same direction as the velocity of the oscillator. Here the push increases the amplitude of the oscillation as energy is added to the system. With no damping the amplitude remains"
   ]
  },
  {
   "cell_type": "code",
   "execution_count": null,
   "metadata": {},
   "outputs": [],
   "source": [
    "plot_with_external_force(contant_force_between_interval(-1, (18, 20)))"
   ]
  },
  {
   "cell_type": "markdown",
   "metadata": {},
   "source": [
    "The same push, but against the velocity, removing energy from the system and reducing the overall amplitude. Again no damping so after the force has ended the amplitude remains"
   ]
  },
  {
   "cell_type": "code",
   "execution_count": null,
   "metadata": {},
   "outputs": [],
   "source": [
    "plot_with_external_force(contant_force_between_interval(1, (18, 20)))"
   ]
  },
  {
   "cell_type": "markdown",
   "metadata": {},
   "source": [
    "A brief push, but with damping, showing how the energe will dissapate from the system over time after the push reducing the amplitute, an intuitive result."
   ]
  },
  {
   "cell_type": "code",
   "execution_count": null,
   "metadata": {},
   "outputs": [],
   "source": [
    "plot_with_external_force(contant_force_between_interval(-1, (40, 43)), damping=0.5*b_critical)"
   ]
  },
  {
   "cell_type": "markdown",
   "metadata": {},
   "source": [
    "# **5.2 Periodic Driving Force (Sinusoidal Forcing)**\n",
    "Instead of a single push, we now apply a **sinusoidal force** over a fixed time interval. This models the effect of **continuous external energy input**, similar to pushing a child on a swing at regular intervals.\n",
    "\n",
    "We examine:\n",
    "- How the system **responds to different driving frequencies**.\n",
    "- The transition from **transient behavior** to **steady-state oscillations**.\n",
    "- How the **forced oscillations compare to unforced motion**.\n",
    "\n",
    "A particularly interesting case is when the **driving frequency is close to the natural frequency** of the system—this can lead to **resonance**, where the amplitude grows significantly."
   ]
  },
  {
   "cell_type": "markdown",
   "metadata": {},
   "source": [
    "This is the function to generate our $F(t)$ for various sine waves. As before returning a lambda accepting time and returning the force at that time."
   ]
  },
  {
   "cell_type": "code",
   "execution_count": null,
   "metadata": {},
   "outputs": [],
   "source": [
    "def sinusoidal_force_between_interval(omega, force, interval):\n",
    "    return lambda time: force*np.sin(omega * time) if interval[0] <= time <= interval[1] else 0"
   ]
  },
  {
   "cell_type": "markdown",
   "metadata": {},
   "source": [
    "Showing the resonant frequency acting on a stationary oscillator, and how each oscillation grows in amplitude as energy is continually added to the system, with no damping to reduce the amplitude"
   ]
  },
  {
   "cell_type": "code",
   "execution_count": null,
   "metadata": {},
   "outputs": [],
   "source": [
    "natural_frequency = np.sqrt(1.35/3.03)\n",
    "plot_with_external_force(sinusoidal_force_between_interval(natural_frequency, 1, (0, 100)), initial_velocity=0)"
   ]
  },
  {
   "cell_type": "markdown",
   "metadata": {},
   "source": [
    "This is a frequency slightly below the resonant frequency. As the force drifts to $180 \\degree $ out of phase it reduces the amplitude, then drift back in phase and behaves like the resonant frequency, causing the oscillations to increase. This cycle will repeat."
   ]
  },
  {
   "cell_type": "code",
   "execution_count": null,
   "metadata": {},
   "outputs": [],
   "source": [
    "plot_with_external_force(sinusoidal_force_between_interval(0.9*natural_frequency, 1, (0, 100)), initial_velocity=0)"
   ]
  },
  {
   "cell_type": "markdown",
   "metadata": {},
   "source": [
    "At frequencies much lower than the resonant frequency we see the oscillations following the force, being offset by approximately a constant force over the time of one oscillation. Instead of being influenced by a changing force over the course of one oscillation, the oscillations are effectively displaced by the force over the course of many oscillations."
   ]
  },
  {
   "cell_type": "code",
   "execution_count": null,
   "metadata": {},
   "outputs": [],
   "source": [
    "plot_with_external_force(sinusoidal_force_between_interval(0.2*natural_frequency, 1, (0, 100)), initial_velocity=0.8)"
   ]
  },
  {
   "cell_type": "markdown",
   "metadata": {},
   "source": [
    "Come back to:\n",
    "We are using analytical methods to check numerical methods for when we can't use analytical . e.g. when F is present\n",
    "best benchmark is analytical solution\n",
    "symplectic vs not methods - use symplectic\n",
    "video 2 has lots of good info (listen not just watch slides)"
   ]
  },
  {
   "cell_type": "markdown",
   "metadata": {},
   "source": [
    "# **6. Stretch Yourself: Investigating Resonance**\n",
    "In this section, we extend our analysis by exploring **resonance in a damped driven oscillator**. When a system is periodically driven at a frequency **close to its natural frequency**, energy is efficiently transferred into the system, leading to **large amplitude oscillations**. This is known as **resonance**.\n",
    "\n",
    "---\n",
    "\n",
    "## **6.1 Understanding Resonance**\n",
    "The natural frequency of an undamped harmonic oscillator is given by:\n",
    "\n",
    "$$ \\omega_0 = \\sqrt{\\frac{k}{m}} $$\n",
    "\n",
    "where:\n",
    "- $ k $ is the spring constant,\n",
    "- $ m $ is the mass of the system.\n",
    "\n",
    "When an external **sinusoidal force** is applied with a frequency $ \\omega_{\\text{drive}} $, the system response depends on **how close $ \\omega_{\\text{drive}} $ is to $ \\omega_0 $**:\n",
    "\n",
    "- **If $ \\omega_{\\text{drive}} < \\omega_0 $** → The system oscillates **at a lower amplitude**.\n",
    "- **If $ \\omega_{\\text{drive}} \\approx \\omega_0 $** → The system undergoes **resonance**, causing a **large amplitude response**.\n",
    "- **If $ \\omega_{\\text{drive}} > \\omega_0 $** → The system cannot keep up with the driving force, resulting in a **small response**.\n",
    "\n",
    "The amplitude of the steady-state oscillations **depends not only on the driving frequency but also on damping**.\n",
    "\n",
    "---\n",
    "\n",
    "## **6.2 Investigating Resonance for Different Damping Values**\n",
    "To systematically analyze resonance, we:\n",
    "1. **Vary the driving frequency $ \\omega_{\\text{drive}} $** from **below** to **above** the natural frequency.\n",
    "2. **Measure the steady-state amplitude** of the system's oscillations.\n",
    "3. **Repeat this for different damping values** to observe how damping affects resonance.\n",
    "\n",
    "---\n",
    "\n",
    "## **6.3 Expected Behavior**\n",
    "- **With no damping ($ b = 0 $)**: The system should show **strong resonance** with very large amplitudes at $ \\omega_{\\text{drive}} \\approx \\omega_0 $.\n",
    "- **With light damping ($ b < b_{\\text{cr}} $)**: A resonance peak still appears, but amplitude is lower than in the undamped case.\n",
    "- **With heavier damping ($ b \\approx b_{\\text{cr}} $ or $ b > b_{\\text{cr}} $)**: The resonance effect is **significantly reduced**.\n",
    "\n",
    "The following plot shows the **steady-state amplitude as a function of driving frequency** for different damping values."
   ]
  },
  {
   "cell_type": "code",
   "execution_count": null,
   "metadata": {},
   "outputs": [],
   "source": [
    "from scipy.signal import find_peaks\n",
    "\n",
    "def steady_state_amplitude(position_array, time_array, cutoff_time=50):\n",
    "    steady_indices = np.where(time_array >= cutoff_time)[0]\n",
    "    \n",
    "    if len(steady_indices) == 0:\n",
    "        raise ValueError(\"Cutoff time is too large; no steady-state data remains.\")\n",
    "\n",
    "    # Extract steady-state portion of the data\n",
    "    steady_positions = position_array[steady_indices]\n",
    "\n",
    "    # Detect peaks in steady-state region\n",
    "    peak_indices, _ = find_peaks(steady_positions)\n",
    "    \n",
    "    if len(peak_indices) == 0:\n",
    "        raise ValueError(\"No peaks found in the steady-state region.\")\n",
    "\n",
    "    # Compute the average peak amplitude\n",
    "    avg_amplitude = np.mean(np.abs(steady_positions[peak_indices]))\n",
    "    \n",
    "    return avg_amplitude\n",
    "\n",
    "def resonance_sweep_multiple_dampings(simulation_class, m, k, n, t, x0, v0, F0, freq_range, damping_values):\n",
    "    plt.figure(figsize=(8, 5))\n",
    "\n",
    "    for b in damping_values:\n",
    "        amplitudes = []\n",
    "\n",
    "        for omega_drive in freq_range:\n",
    "            # Define sinusoidal driving force\n",
    "            force_function = lambda time: F0 * np.sin(omega_drive * time)\n",
    "            \n",
    "            # Run the driven simulation\n",
    "            simulation = simulation_class(m, k, b, n, t, x0, v0, force_function)\n",
    "            x, v, a, time_array = simulation.simulate()\n",
    "            \n",
    "            # Measure steady-state amplitude\n",
    "            amp = steady_state_amplitude(x, time_array)\n",
    "            amplitudes.append(amp)\n",
    "\n",
    "        # Plot resonance curve for this damping value\n",
    "        plt.plot(freq_range, amplitudes, marker='o', linestyle='-', label=f\"b={b:.2f}\")\n",
    "\n",
    "    # Plot formatting\n",
    "    plt.xlabel(\"Driving Frequency (rad/s)\")\n",
    "    plt.ylabel(\"Steady-State Amplitude\")\n",
    "    plt.title(\"Resonance Curves for Different Damping Values\")\n",
    "    plt.axvline(np.sqrt(k/m), color='r', linestyle='--', label=\"Natural Frequency ω₀\")\n",
    "    plt.legend()\n",
    "    plt.grid()\n",
    "    plt.show()\n",
    "\n",
    "# System parameters\n",
    "mass = 3.03\n",
    "spring_constant = 1.35\n",
    "step_size = 0.01  # Number of steps\n",
    "runtime = 100   # Total simulation time\n",
    "initial_position = 0\n",
    "initial_velocity = 0\n",
    "F0 = 5  # Force amplitude\n",
    "\n",
    "# Define a range of damping values\n",
    "damping_values = [0, 0.05, 0.1, 0.2, 0.5]  # Test light to heavy damping\n",
    "\n",
    "# Define a range of driving frequencies around the natural frequency\n",
    "omega_0 = np.sqrt(spring_constant / mass)  # Natural frequency\n",
    "freq_range = np.linspace(0.5 * omega_0, 2 * omega_0, 30)  # Higher resolution\n",
    "\n",
    "# Run the resonance sweep for multiple damping values\n",
    "resonance_sweep_multiple_dampings(DrivenEulerCromerSimulation, mass, spring_constant, step_size, runtime, initial_position, initial_velocity, F0, freq_range, damping_values)"
   ]
  },
  {
   "cell_type": "markdown",
   "metadata": {},
   "source": [
    "# **6.4 Analysis of Resonance Results**\n",
    "The plot above shows the **steady-state amplitude as a function of the driving frequency** for different damping values. Several important trends can be observed:\n",
    "\n",
    "---\n",
    "\n",
    "## **6.4.1 Observed Trends**\n",
    "### **🔹 Case 1: No Damping ($ b = 0 $)**\n",
    "- The **resonance peak is very sharp and high**, meaning that when $ \\omega_{\\text{drive}} \\approx \\omega_0 $, the system absorbs energy efficiently and oscillates with **large amplitude**.\n",
    "- This is expected because there is **no energy loss** due to damping, allowing continuous energy buildup.\n",
    "\n",
    "### **🔹 Case 2: Light Damping ($ b < b_{\\text{cr}} $)**\n",
    "- The resonance peak **is still present but lower** compared to the undamped case.\n",
    "- The system still absorbs energy near resonance, but **some energy is dissipated** due to damping.\n",
    "- The frequency at which maximum amplitude occurs **shifts slightly to the left** of $ \\omega_0 $.\n",
    "\n",
    "### **🔹 Case 3: Moderate to Heavy Damping ($ b \\approx b_{\\text{cr}} $ and $ b > b_{\\text{cr}} $)**\n",
    "- The resonance peak is **significantly reduced**.\n",
    "- As damping increases, **energy dissipation dominates over resonance effects**.\n",
    "- The system still oscillates but never reaches large amplitudes, even near $ \\omega_0 $.\n",
    "- The peak amplitude occurs at **a frequency lower than $ \\omega_0 $**.\n",
    "\n",
    "---\n",
    "\n",
    "## **6.4.2 Comparison with Theoretical Predictions**\n",
    "### **Theoretical Resonance Amplitude**\n",
    "The theoretical amplitude response for a damped driven harmonic oscillator is:\n",
    "\n",
    "$$ A(\\omega) = \\frac{F_0 / m}{\\sqrt{(\\omega_0^2 - \\omega^2)^2 + (b \\omega / m)^2}} $$\n",
    "\n",
    "where:\n",
    "- $ \\omega_0 = \\sqrt{k/m} $ is the natural frequency,\n",
    "- $ b $ is the damping coefficient,\n",
    "- $ F_0 $ is the driving force amplitude.\n",
    "\n",
    "### **Comparison with Our Results**\n",
    "✔ The **numerical results match the theoretical expectations**:\n",
    "- The **peak amplitude decreases as damping increases**.\n",
    "- The **resonance peak shifts left** as damping increases.\n",
    "- The **overall response curve shape** is consistent with theoretical resonance curves.\n",
    "\n",
    "✔ **Small deviations** between the numerical and theoretical results may arise due to:\n",
    "- Finite time steps in the numerical method.\n",
    "- The steady-state amplitude measurement method.\n",
    "- Small numerical errors in the simulation.\n",
    "\n",
    "---\n",
    "\n",
    "## **6.4.3 Conclusion**\n",
    "- **Resonance occurs when the driving frequency is close to $ \\omega_0 $.**\n",
    "- **Higher damping reduces resonance effects** by dissipating energy.\n",
    "- **Numerical results align with theoretical predictions**, confirming the accuracy of the Euler-Cromer method for driven oscillations.\n",
    "\n",
    "This investigation highlights how **damping influences resonance behavior**, reinforcing the importance of considering energy dissipation in real-world oscillating systems."
   ]
  }
 ],
 "metadata": {
  "kernelspec": {
   "display_name": "base",
   "language": "python",
   "name": "python3"
  },
  "language_info": {
   "codemirror_mode": {
    "name": "ipython",
    "version": 3
   },
   "file_extension": ".py",
   "mimetype": "text/x-python",
   "name": "python",
   "nbconvert_exporter": "python",
   "pygments_lexer": "ipython3",
   "version": "3.11.5"
  }
 },
 "nbformat": 4,
 "nbformat_minor": 2
}
