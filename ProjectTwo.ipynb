{
 "cells": [
  {
   "cell_type": "markdown",
   "metadata": {},
   "source": [
    "# PHYS20762 - Project - \n",
    "\n",
    "David Phelan  \n",
    "University of Manchester  \n",
    "March 2025"
   ]
  },
  {
   "cell_type": "markdown",
   "metadata": {},
   "source": [
    "This project aims to simulate a driven, damped harmonic oscillator."
   ]
  },
  {
   "cell_type": "code",
   "execution_count": null,
   "metadata": {},
   "outputs": [],
   "source": [
    "%pip install numpy\n",
    "%pip install matplotlib"
   ]
  },
  {
   "cell_type": "code",
   "execution_count": null,
   "metadata": {},
   "outputs": [],
   "source": [
    "# Initilisation\n",
    "import numpy as np\n",
    "import matplotlib.pyplot as plt\n",
    "import cmath"
   ]
  },
  {
   "cell_type": "markdown",
   "metadata": {},
   "source": [
    "The below function is an Euler solution to the equation of motion:\n",
    "\n",
    "$m \\frac{d^2 x(t)}{dt^2} + b \\frac{d x(t)}{dt} + kx(t) = F(t),$\n",
    "\n",
    "where the external force, $F(t)$ is $0$ (not driven) and accepting m, b, and k as inputs."
   ]
  },
  {
   "cell_type": "markdown",
   "metadata": {},
   "source": [
    "Base class of generic simulation that all future simulations extend"
   ]
  },
  {
   "cell_type": "code",
   "execution_count": null,
   "metadata": {},
   "outputs": [],
   "source": [
    "class Simulation:\n",
    "    \"\"\"Base simulation class for a mass-spring-damper system.\"\"\"\n",
    "    def __init__(self, name, m, k, b, n, t, x0, v0, force, force_time_interval):\n",
    "        self.name = name\n",
    "        self.mass = m\n",
    "        self.spring_constant = k\n",
    "        self.damping_coefficient = b\n",
    "        self.steps = n\n",
    "        self.points = n + 1\n",
    "        self.runtime = t\n",
    "        self.initial_position = x0\n",
    "        self.initial_velocity = v0\n",
    "        self.time_step = t/n\n",
    "        self.force = force\n",
    "        self.force_time_interval = force_time_interval\n",
    "    \n",
    "    def simulate_at_position(self, i, position_array, velocity_array, acceleration_array, force):\n",
    "        return self.simulate_at_time(position_array[i], velocity_array[i], acceleration_array[i], force)\n",
    "\n",
    "    def simulate_at_time(self, x_current, v_current, a_current, force):\n",
    "        \"\"\"\n",
    "        Called by simulate() at each time step.\n",
    "        Must return (position, velocity, acceleration) at step i.\n",
    "        \"\"\"\n",
    "        raise NotImplementedError(\"Override this method in subclasses.\")\n",
    "\n",
    "    def simulate(self):\n",
    "        # Create arrays for time, position, velocity, acceleration\n",
    "        time_array = np.linspace(0, self.runtime, self.points)\n",
    "        position_array = np.zeros(self.points)\n",
    "        velocity_array = np.zeros(self.points)\n",
    "        acceleration_array = np.zeros(self.points)\n",
    "\n",
    "        # Set initial conditions\n",
    "        position_array[0] = self.initial_position\n",
    "        velocity_array[0] = self.initial_velocity\n",
    "        force = self.force if (self.force_time_interval[0] == 0) else 0\n",
    "        acceleration_array[0] = (force - self.spring_constant * self.initial_position - self.damping_coefficient * self.initial_velocity) / self.mass\n",
    "\n",
    "        # Step through in time\n",
    "        for i in range(self.steps):\n",
    "            \n",
    "            if self.force_time_interval[0] <= time_array[i] <= self.force_time_interval[1]:\n",
    "                force = self.force\n",
    "            else:\n",
    "                force = 0\n",
    "\n",
    "            # Delegate to the subclass for the actual step\n",
    "            x_next, v_next, a_next = self.simulate_at_position(i, position_array, velocity_array, acceleration_array, force)\n",
    "            position_array[i+1] = x_next\n",
    "            velocity_array[i+1] = v_next\n",
    "            acceleration_array[i+1] = a_next\n",
    "\n",
    "        return position_array, velocity_array, acceleration_array, time_array"
   ]
  },
  {
   "cell_type": "markdown",
   "metadata": {},
   "source": [
    "This is an implementation of an Euler simulation, extending the base simulation"
   ]
  },
  {
   "cell_type": "code",
   "execution_count": null,
   "metadata": {},
   "outputs": [],
   "source": [
    "class EulerSimulation(Simulation):\n",
    "    def __init__(self, m, k, b, n, t, x0, v0, force, force_time_interval):\n",
    "        \n",
    "        super().__init__(\"Euler\", m, k, b, n, t, x0, v0, force, force_time_interval)\n",
    "\n",
    "    def simulate_at_time(self, x_current, v_current, a_current, force):\n",
    "        \n",
    "        x_next = x_current + v_current * self.time_step\n",
    "        v_next = v_current + a_current * self.time_step\n",
    "        a_next = (force - self.spring_constant * x_next - self.damping_coefficient * v_next) / self.mass\n",
    "\n",
    "        return x_next, v_next, a_next\n"
   ]
  },
  {
   "cell_type": "markdown",
   "metadata": {},
   "source": [
    "The below function is an improved Euler solution to the equation of motion:\n",
    "\n",
    "$m \\frac{d^2 x(t)}{dt^2} + b \\frac{d x(t)}{dt} + kx(t) = F(t),$\n",
    "\n",
    "where the external force, $F(t)$ is $0$ (not driven) and accepting m, b, and k as inputs."
   ]
  },
  {
   "cell_type": "code",
   "execution_count": null,
   "metadata": {},
   "outputs": [],
   "source": [
    "class ImprovedEulerSimulation(Simulation):\n",
    "    def __init__(self, m, k, b, n, t, x0, v0, force, force_time_interval):\n",
    "        \n",
    "        super().__init__(\"Improved Euler\", m, k, b, n, t, x0, v0, force, force_time_interval)\n",
    "\n",
    "    def simulate_at_time(self, x_current, v_current, a_current, force):\n",
    "        \n",
    "        x_next = x_current + v_current * self.time_step + 0.5 * self.time_step**2 * a_current\n",
    "        v_next = v_current + a_current * self.time_step\n",
    "        a_next = (force - self.spring_constant * x_next - self.damping_coefficient * v_next) / self.mass\n",
    "\n",
    "        return x_next, v_next, a_next"
   ]
  },
  {
   "cell_type": "markdown",
   "metadata": {},
   "source": [
    "The below function is an Euler-Cromer solution to the equation of motion:\n",
    "\n",
    "$m \\frac{d^2 x(t)}{dt^2} + b \\frac{d x(t)}{dt} + kx(t) = F(t),$\n",
    "\n",
    "where the external force, $F(t)$ is $0$ (not driven) and accepting m, b, and k as inputs."
   ]
  },
  {
   "cell_type": "code",
   "execution_count": null,
   "metadata": {},
   "outputs": [],
   "source": [
    "class EulerCromerSimulation(Simulation):\n",
    "    def __init__(self, m, k, b, n, t, x0, v0, force, force_time_interval):\n",
    "        \n",
    "        super().__init__(\"Euler Cromer\", m, k, b, n, t, x0, v0, force, force_time_interval)\n",
    "\n",
    "    def simulate_at_time(self, x_current, v_current, a_current, force):\n",
    "        \n",
    "        v_next = v_current + a_current * self.time_step\n",
    "        x_next = x_current + v_next * self.time_step\n",
    "        a_next = (force - self.spring_constant * x_next - self.damping_coefficient * v_next) / self.mass\n",
    "\n",
    "        return x_next, v_next, a_next"
   ]
  },
  {
   "cell_type": "markdown",
   "metadata": {},
   "source": [
    "Verlet"
   ]
  },
  {
   "cell_type": "code",
   "execution_count": null,
   "metadata": {},
   "outputs": [],
   "source": [
    "class VerletSimulation(Simulation):\n",
    "    def __init__(self, m, k, b, n, t, x0, v0, force, force_time_interval):       \n",
    "        super().__init__(\"Verlet\", m, k, b, n, t, x0, v0, force, force_time_interval)\n",
    "        self.D = 2*m + b*self.time_step\n",
    "        self.A = 2.0*(2*m - k*(self.time_step**2)) / self.D\n",
    "        self.B = (b*self.time_step - 2*m) / self.D\n",
    "\n",
    "    def simulate_at_position(self, i, position_array, velocity_array, acceleration_array, force):\n",
    "      if i == 0:\n",
    "        x_next = position_array[0] + velocity_array[0] * self.time_step + 0.5 * self.time_step**2 * acceleration_array[0]\n",
    "        v_next = velocity_array[0] + acceleration_array[0] * self.time_step\n",
    "        a_next = (force - self.spring_constant * x_next - self.damping_coefficient * v_next) / self.mass\n",
    "      \n",
    "      else:\n",
    "        x_next = self.A * position_array[i] + self.B * position_array[i-1]\n",
    "        v_next = (x_next - position_array[i]) / self.time_step #?\n",
    "        a_next = (force - self.spring_constant * x_next - self.damping_coefficient * v_next) / self.mass #?\n",
    "\n",
    "      return x_next, v_next, a_next"
   ]
  },
  {
   "cell_type": "markdown",
   "metadata": {},
   "source": [
    "Analytical solution"
   ]
  },
  {
   "cell_type": "code",
   "execution_count": null,
   "metadata": {},
   "outputs": [],
   "source": [
    "def analytical_solution(m,k,b,t,x0,v0):\n",
    "\n",
    "    time = t\n",
    "    omega_damped = cmath.sqrt(4*k*m-b**2)\n",
    "    A = (b/(2*1j*omega_damped)+1/2)*x0+v0*m/(omega_damped*1j) \n",
    "    B = x0-A\n",
    "    \n",
    "    exponential_component = np.exp(-b*time/(2*m))\n",
    "    sinusoidal_component = (A*np.exp(1j*omega_damped*time/(2*m))\n",
    "                            +B*np.exp(-1j*omega_damped*time/(2*m)))\n",
    "\n",
    "    return sinusoidal_component * exponential_component"
   ]
  },
  {
   "cell_type": "markdown",
   "metadata": {},
   "source": [
    "Plotting each method vs analytical solution for no damping"
   ]
  },
  {
   "cell_type": "code",
   "execution_count": null,
   "metadata": {},
   "outputs": [],
   "source": [
    "def plot_simulation(mass, spring_constant, damping_coefficient_array, step_array, runtime, initial_position, initial_velocity, simulation_type_array, include_analytical, force=0, force_time_interval=(0, 0)):\n",
    "\n",
    "    for simulation_type in simulation_type_array:\n",
    "\n",
    "        for damping_coefficient in damping_coefficient_array:\n",
    "\n",
    "            for step in step_array:\n",
    "\n",
    "                # Compute the solution\n",
    "                simulation = simulation_type(mass, spring_constant, damping_coefficient, step, runtime, initial_position, initial_velocity, force, force_time_interval)\n",
    "                position, velocity, acceleration, time_array = simulation.simulate()\n",
    "                # Plot the position vs time\n",
    "                plt.plot(time_array, position, label=simulation.name, linestyle='--')\n",
    "\n",
    "                if include_analytical:\n",
    "                    plt.plot(time_array, analytical_solution(mass, spring_constant, damping_coefficient, time_array, initial_position, initial_velocity), label='Analytical', linestyle='--')\n",
    "\n",
    "        plt.title('Position vs Time')\n",
    "        plt.xlabel('Time')\n",
    "        plt.ylabel('Position')\n",
    "        plt.legend()\n",
    "        plt.show()"
   ]
  },
  {
   "cell_type": "code",
   "execution_count": null,
   "metadata": {},
   "outputs": [],
   "source": [
    "plot_simulation(3.03, 1.35, [0], [20000], 400, 0, -1, [EulerSimulation, ImprovedEulerSimulation, EulerCromerSimulation, VerletSimulation], True)"
   ]
  },
  {
   "cell_type": "markdown",
   "metadata": {},
   "source": [
    "Now using different time step values to see effects on each method"
   ]
  },
  {
   "cell_type": "code",
   "execution_count": null,
   "metadata": {},
   "outputs": [],
   "source": [
    "plot_simulation(3.03, 1.35, [0], np.array([20000, 40000, 80000, 160000]), 400, 0, -1, [EulerSimulation, ImprovedEulerSimulation, EulerCromerSimulation, VerletSimulation], False)"
   ]
  },
  {
   "cell_type": "markdown",
   "metadata": {},
   "source": [
    "The accuracy of Euler and ImprovedEuler greatly improves upon decreasing step size, whereas Euler-Cromer and Verlet are perfectly accurate from the beginning\n",
    "- can see accuracy improves because the energy no longer diverges but remains more constant as step size decreases (it should be constant for no damping and no external force)\n",
    "So to investigate further, let's look at how increased damping affects accuracy to explore the further two\n",
    "Using greatest step size explored earlier since it makes the most accurate solution\n",
    "For the above graphs - do I want to add the analytical solution? How would I? Clutter?"
   ]
  },
  {
   "cell_type": "code",
   "execution_count": null,
   "metadata": {},
   "outputs": [],
   "source": [
    "plot_simulation(3.03, 1.35, [0, 0.5, 1, 2], [5000], 100, 0, -1, [EulerSimulation, ImprovedEulerSimulation, EulerCromerSimulation, VerletSimulation], False)"
   ]
  },
  {
   "cell_type": "markdown",
   "metadata": {},
   "source": [
    "Need to say stuff like as you can see, so and so is the most accurate\n",
    "Problem: why are Euler-Cromer and Verlet identical?"
   ]
  },
  {
   "cell_type": "markdown",
   "metadata": {},
   "source": [
    "Moving forward with the best chosen method, here it is for a variety of damping coefficients"
   ]
  },
  {
   "cell_type": "code",
   "execution_count": null,
   "metadata": {},
   "outputs": [],
   "source": [
    "b_critical = np.sqrt(4*3.03*1.35)\n",
    "plot_simulation(3.03, 1.35, np.array([0, 0.5*b_critical, b_critical, 2*b_critical]), [5000], 100, 0, -1, [VerletSimulation], False)"
   ]
  },
  {
   "cell_type": "markdown",
   "metadata": {},
   "source": [
    "Now for analytical\n",
    "Come back to the below:\n",
    "Analytical solution graphs, not asked for but I think I should put them alongside the best chosen method when doing different dampings"
   ]
  },
  {
   "cell_type": "code",
   "execution_count": null,
   "metadata": {},
   "outputs": [],
   "source": [
    "'''\n",
    "# Parameters\n",
    "m = 3.03\n",
    "k = 1.35\n",
    "b_critical = np.sqrt(4*m*k)\n",
    "b_values = np.array([0, 0.5*b_critical, b_critical, 2*b_critical])\n",
    "n = 5000\n",
    "t = 100\n",
    "x0 = 0\n",
    "v0 = -1\n",
    "dt = t/n\n",
    "\n",
    "plt.figure(figsize=(8, 5))  # Create a new figure for each method\n",
    "print(len(time_array))\n",
    "\n",
    "for b in b_values:\n",
    "    # Compute the solution\n",
    "    x = analytical_solution(m, k, b, n, time_array, x0, v0, dt)\n",
    "\n",
    "    # Plot the position vs time\n",
    "    plt.plot(time_array, x, label=f\"{analytical_solution.__name__} (b={b})\", linestyle='--')\n",
    "\n",
    "plt.xlabel('Time')\n",
    "plt.ylabel('Position')\n",
    "plt.legend()\n",
    "plt.show()\n",
    "'''"
   ]
  },
  {
   "cell_type": "markdown",
   "metadata": {},
   "source": [
    "Discussion here about different damping solutions"
   ]
  },
  {
   "cell_type": "markdown",
   "metadata": {},
   "source": [
    "Verlet with varying force and force time interval"
   ]
  },
  {
   "cell_type": "code",
   "execution_count": null,
   "metadata": {},
   "outputs": [],
   "source": [
    "plot_simulation(3.03, 1.35, [0], [5000], 100, 0, -1, [EulerCromerSimulation], False, 10, (0, 10))\n",
    "plot_simulation(3.03, 1.35, [0], [5000], 100, 0, -1, [EulerCromerSimulation], False, -10, (0, 10))\n",
    "plot_simulation(3.03, 1.35, [0], [5000], 100, 0, -1, [EulerCromerSimulation], False, 10, (50, 100))\n",
    "plot_simulation(3.03, 1.35, [0], [5000], 100, 0, -1, [EulerCromerSimulation], False, -10, (50, 100))"
   ]
  },
  {
   "cell_type": "markdown",
   "metadata": {},
   "source": [
    "Come back to:\n",
    "We are using analytical methods to check numerical methods for when we can't use analytical . e.g. when F is present\n",
    "best benchmark is analytical solution\n",
    "symplectic vs not methods - use symplectic\n",
    "video 2 has lots of good info (listen not just watch slides)"
   ]
  },
  {
   "cell_type": "markdown",
   "metadata": {},
   "source": [
    "Questions\n",
    "If I use extra numerical methods and one is more accurate than the 4 provided, am I okay to use that for the rest of the report?\n",
    "Talk about errors, watch third video. Maybe plot error (model - analytical values) vs time graph\n",
    "Do I need to leave a blank like at the end of cells? Like last module wanted\n",
    "Euler - original vs my method. Can I be calculating a[i+1]? Does that violate Euler principles\n",
    "Comparing the two test Euler functions I have, why does the new one (with the same logic as far as I can see where F and t_F both = 0) produce a different graph than old one?"
   ]
  },
  {
   "cell_type": "markdown",
   "metadata": {},
   "source": [
    "Doing tests to make sure things work"
   ]
  },
  {
   "cell_type": "code",
   "execution_count": null,
   "metadata": {},
   "outputs": [],
   "source": [
    "def test_Euler_simulation():\n",
    "    \"\"\"\n",
    "    Tests the Euler_undriven function in simple edge cases\n",
    "    to confirm that the solver behaves as expected.\n",
    "    \n",
    "    Scenario 1: \n",
    "        - m=1, k=0, b=0, x0=0, v0=0, dt=0.1\n",
    "        - Expect no forces and no initial motion => everything remains zero.\n",
    "    \n",
    "    Scenario 2:\n",
    "        - m=1, k=0, b=0, x0=2, v0=-1, dt=0.1\n",
    "        - Expect velocity remains constant at -1, \n",
    "          position decreases linearly with slope -1, \n",
    "          acceleration is always zero.\n",
    "    \"\"\"\n",
    "    # -- Scenario 1: no forces and no initial velocity --\n",
    "    from_module = Euler_driven(m=1, k=0, b=0, x0=0, v0=0, dt=0.1, n=10)\n",
    "    x_arr, v_arr, a_arr, t_arr = from_module\n",
    "    \n",
    "    # Our expected arrays: everything should be zero (length n_stneps+1 = 11)\n",
    "    zeros_11 = np.zeros(11)\n",
    "    \n",
    "    # Assert they match (within floating-point tolerance)\n",
    "    assert np.allclose(x_arr, zeros_11), \"Scenario 1: x should remain zero.\"\n",
    "    assert np.allclose(v_arr, zeros_11), \"Scenario 1: v should remain zero.\"\n",
    "    assert np.allclose(a_arr, zeros_11), \"Scenario 1: a should remain zero.\"\n",
    "    \n",
    "    # -- Scenario 2: constant velocity, no forces --\n",
    "    from_module = Euler_driven(m=1, k=0, b=0, x0=2, v0=-1, dt=0.1, n=10)\n",
    "    x_arr, v_arr, a_arr, t_arr = from_module\n",
    "    \n",
    "    # Time array for reference\n",
    "    # t_arr = [0.0, 0.1, 0.2, ..., 1.0] (length = 11)\n",
    "    \n",
    "    # The velocity should remain at -1:\n",
    "    expected_v = -1 * np.ones_like(t_arr)\n",
    "    # The position should be x(t) = 2 + v0 * t = 2 - 1 * t\n",
    "    expected_x = 2 - t_arr\n",
    "    # Acceleration should be zero (no spring, no damping)\n",
    "    expected_a = np.zeros_like(t_arr)\n",
    "    \n",
    "    assert np.allclose(v_arr, expected_v),  \"Scenario 2: velocity should stay at -1.\"\n",
    "    assert np.allclose(x_arr, expected_x),  \"Scenario 2: position should be linear in time.\"\n",
    "    assert np.allclose(a_arr, expected_a),  \"Scenario 2: acceleration should remain zero.\"\n",
    "    \n",
    "    print(\"All Euler_undriven tests passed successfully!\")\n",
    "\n",
    "#test_Euler_undriven()"
   ]
  },
  {
   "cell_type": "code",
   "execution_count": null,
   "metadata": {},
   "outputs": [],
   "source": [
    "def test_ImprovedEuler_undriven():\n",
    "    \"\"\"\n",
    "    Tests the Improved Euler (2nd-order Taylor) method in simple edge cases:\n",
    "    \n",
    "    Scenario 1: \n",
    "        k=0, b=0, v0=0 => no force, no initial velocity\n",
    "        Expected: The mass stays at the initial position, with zero velocity/acceleration.\n",
    "\n",
    "    Scenario 2: \n",
    "        k=0, b=0, v0 != 0 => no force, nonzero initial velocity\n",
    "        Expected: The mass moves with constant velocity (v0) \n",
    "                  so x(t) = x0 + v0 * t, and a(t) = 0.\n",
    "    \"\"\"\n",
    "    \n",
    "    # -----------------------------\n",
    "    # Scenario 1: No force, no initial motion\n",
    "    # -----------------------------\n",
    "    from_func = ImprovedEuler_undriven(m=1, k=0, b=0, n=10, x0=2, v0=0, dt=0.1)\n",
    "    x_arr, v_arr, a_arr, t_arr = from_func\n",
    "    \n",
    "    # All values should remain exactly the initial position, \n",
    "    # with zero velocity and zero acceleration.\n",
    "    expected_x = np.full_like(t_arr, 2.0)  # always at x=2\n",
    "    expected_v = np.zeros_like(t_arr)\n",
    "    expected_a = np.zeros_like(t_arr)\n",
    "    \n",
    "    assert np.allclose(x_arr, expected_x), \"Scenario 1: position should remain constant at 2.\"\n",
    "    assert np.allclose(v_arr, expected_v), \"Scenario 1: velocity should remain zero.\"\n",
    "    assert np.allclose(a_arr, expected_a), \"Scenario 1: acceleration should remain zero.\"\n",
    "\n",
    "    # -----------------------------\n",
    "    # Scenario 2: No force, but nonzero initial velocity\n",
    "    # -----------------------------\n",
    "    from_func = ImprovedEuler_undriven(m=1, k=0, b=0, n=10, x0=2, v0=-1, dt=0.1)\n",
    "    x_arr, v_arr, a_arr, t_arr = from_func\n",
    "    \n",
    "    # Velocity should stay at -1, position should decrease linearly\n",
    "    # x(t) = x0 + v0 * t = 2 - t\n",
    "    expected_v = -1.0 * np.ones_like(t_arr)\n",
    "    expected_x = 2.0 + (-1.0)*t_arr\n",
    "    expected_a = np.zeros_like(t_arr)\n",
    "    \n",
    "    assert np.allclose(v_arr, expected_v),  \"Scenario 2: velocity should remain constant at -1.\"\n",
    "    assert np.allclose(x_arr, expected_x),  \"Scenario 2: position should be 2 - t.\"\n",
    "    assert np.allclose(a_arr, expected_a),  \"Scenario 2: acceleration should remain zero.\"\n",
    "\n",
    "    print(\"All tests for the Improved Euler (2nd-order) method passed successfully!\")\n",
    "\n",
    "#test_ImprovedEuler_undriven()"
   ]
  },
  {
   "cell_type": "code",
   "execution_count": null,
   "metadata": {},
   "outputs": [],
   "source": [
    "def test_EulerCromer_undriven():\n",
    "    \"\"\"\n",
    "    Tests the Euler-Cromer method in simple edge cases:\n",
    "    \n",
    "    1) No force, no initial velocity => the mass should remain at rest.\n",
    "    2) No force, nonzero initial velocity => the mass moves at constant velocity.\n",
    "    \"\"\"\n",
    "    # --- Scenario 1: No force, no motion ---\n",
    "    x_arr, v_arr, a_arr, t_arr = EulerCromer_undriven(\n",
    "        m=1, k=0, b=0, n=10, x0=5, v0=0, dt=0.1\n",
    "    )\n",
    "    # Expect position=constant=5, velocity=0, acceleration=0\n",
    "    expected_x = np.full_like(t_arr, 5.0)\n",
    "    expected_v = np.zeros_like(t_arr)\n",
    "    expected_a = np.zeros_like(t_arr)\n",
    "\n",
    "    assert np.allclose(x_arr, expected_x), \"Scenario 1: x should remain at 5.\"\n",
    "    assert np.allclose(v_arr, expected_v), \"Scenario 1: v should remain 0.\"\n",
    "    assert np.allclose(a_arr, expected_a), \"Scenario 1: a should remain 0.\"\n",
    "\n",
    "    # --- Scenario 2: No force, constant velocity ---\n",
    "    x_arr, v_arr, a_arr, t_arr = EulerCromer_undriven(\n",
    "        m=1, k=0, b=0, n=10, x0=5, v0=2, dt=0.1\n",
    "    )\n",
    "    # Velocity=2, so x(t)=5 + 2*t, a(t)=0\n",
    "    expected_v = np.full_like(t_arr, 2.0)\n",
    "    expected_x = 5 + 2*t_arr\n",
    "    expected_a = np.zeros_like(t_arr)\n",
    "\n",
    "    assert np.allclose(v_arr, expected_v), \"Scenario 2: velocity should remain 2.\"\n",
    "    assert np.allclose(x_arr, expected_x), \"Scenario 2: position should be 5 + 2*t.\"\n",
    "    assert np.allclose(a_arr, expected_a), \"Scenario 2: acceleration should remain 0.\"\n",
    "\n",
    "    print(\"All Euler-Cromer tests passed successfully!\")\n",
    "\n",
    "#test_EulerCromer_undriven()"
   ]
  },
  {
   "cell_type": "code",
   "execution_count": null,
   "metadata": {},
   "outputs": [],
   "source": [
    "def test_Verlet_undriven():\n",
    "    # Case 1: No force, no initial velocity => remain at rest, x=constant\n",
    "    x_arr, v_arr, a_arr, t_arr = Verlet_undriven(m=1, k=0, b=0, n=10, x0=2, v0=0, dt=0.1)\n",
    "    assert np.allclose(x_arr, 2), \"Position should remain at x=2.\"\n",
    "    assert np.allclose(v_arr, 0), \"Velocity should stay zero.\"\n",
    "    assert np.allclose(a_arr, 0), \"Acceleration should be zero.\"\n",
    "\n",
    "    # Case 2: No force, constant nonzero velocity => x(t)=x0 + v0*t\n",
    "    x_arr, v_arr, a_arr, t_arr = Verlet_undriven(m=1, k=0, b=0, n=10, x0=3, v0=1, dt=0.1)\n",
    "    expected_x = 3 + t_arr*1.0\n",
    "    assert np.allclose(x_arr, expected_x), \"Position should be x0 + v0*t.\"\n",
    "    assert np.allclose(v_arr, 1.0), \"Velocity should remain constant at 1.\"\n",
    "    assert np.allclose(a_arr, 0), \"Acceleration should remain zero.\"\n",
    "    \n",
    "    print(\"All Verlet_undriven tests passed!\")\n",
    "\n",
    "#test_Verlet_undriven()"
   ]
  }
 ],
 "metadata": {
  "kernelspec": {
   "display_name": "base",
   "language": "python",
   "name": "python3"
  },
  "language_info": {
   "codemirror_mode": {
    "name": "ipython",
    "version": 3
   },
   "file_extension": ".py",
   "mimetype": "text/x-python",
   "name": "python",
   "nbconvert_exporter": "python",
   "pygments_lexer": "ipython3",
   "version": "3.11.5"
  }
 },
 "nbformat": 4,
 "nbformat_minor": 2
}
